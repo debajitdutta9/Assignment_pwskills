{
 "cells": [
  {
   "cell_type": "markdown",
   "id": "fb3a770d",
   "metadata": {},
   "source": [
    "Q1. What is an API? Give an example, where an API is used in real life.\n",
    " \n",
    " \n",
    "API is the acronym for application programming interface — a software intermediary that allows two applications to talk to each other. APIs are an accessible way to extract and share data within and across organizations.\n",
    "\n",
    "APIs are all around us. Every time you use a rideshare app, send a mobile payment, or change the thermostat temperature from your phone, you’re using an API.\n",
    "When you use one of the above apps, they connect to the Internet and send data to a server. The server then retrieves that data, interprets it, performs the necessary actions, and sends it back to your phone. The application then interprets that data and presents you with the information you wanted in a readable way.\n",
    "\n",
    "Example 1.\n",
    "Log-in Using XYZ\n",
    "Another well-known API example usage is the \"log in with Facebook/Twitter/Google/GitHub\" capability seen on many websites. It's quite useful, but have you ever pondered how it works? Rather than entering into users' social media accounts (which would be a severe security risk), applications with this capability use the APIs of these platforms to authenticate the user with each login.\n",
    "\n",
    "It operates in a straightforward manner. When the program loads, it checks the API to see whether the user is already logged in to whichever social networking platform. If not, when the user hits the \"Log-in Using XYZ\" button, a pop-up appears asking them to confirm they really want to log in with that social network profile. When the user confirms, the API sends identity information to the application, letting it know who is logging in.\n",
    "\n",
    "example 2.\n",
    "Pay with PayPal\n",
    "Have you ever used PayPal to purchase directly from an eCommerce store? That, too, is an API at work. The \"Pay with PayPal\" functionality, like checking in with a social networking site, is done via APIs to ensure that the end application can only do what it needs to accomplish without being exposed to sensitive data or gaining access to unwelcome privileges.\n",
    "\n",
    "The inner workings of this useful feature are fairly similar to the login procedure discussed above. When a user selects the \"Pay with PayPal\" button, the application makes an \"order\" request to the PayPal API, containing the amount owing and other critical information. The user is then authenticated, and their purchase is confirmed through a pop-up. Finally, the API returns payment confirmation to the application if everything goes as planned.\n"
   ]
  },
  {
   "cell_type": "markdown",
   "id": "4b25786a",
   "metadata": {},
   "source": [
    "Q2. Give advantages and disadvantages of using API.\n",
    "The main advantage of providing an API is that it allows your users to do more with your product or service (i.e. it increases the value of your product). This typically takes one of two forms -\n",
    "\n",
    "1.an integration -->\n",
    "An example of an integration is to push notifications from your product (such as CRM, Helpdesk) to a messaging tool such as Slack. In this way, if your customer uses Slack they can receive notifications without having to login directly to your system or check emails.\n",
    "\n",
    "2.new functionality -->\n",
    "In the early days of Twitter, some of the most popular Twitter clients were produced by third parties using the Twitter API. Twitter and its users benefited from the new functionality that was undertaken by other companies.\n",
    "\n",
    "The disadvantages to providing an API are,\n",
    "\n",
    "1. Cost-->\n",
    "Providing an API is expensive in terms of development time, ongoing maintenance, providing API documentation on your website and providing support to users of your API.\n",
    "2.Security exposure.--> Adding an API adds another attack surface to your website.\n",
    "3. you might not like--> the result or you may change business direction. It's not always easy to predict exactly how your API will be used. If your integration with a messaging system means that users login to your service less often, will there be an overall negative impact for you? Withdrawing an API can be painful for users if you decide that you need to do so. This is unusual but it can happen. As Twitter's business evolved it changed its rules for accessing its API which resulted in a number of problems for users and developers "
   ]
  },
  {
   "cell_type": "markdown",
   "id": "2ae16eec",
   "metadata": {},
   "source": [
    "Q3. What is a Web API? Differentiate between API and Web API.\n",
    "\n",
    "Web API is an API as the name suggests, it can be accessed over the web using the HTTP protocol. It is a framework that helps you to create and develop HTTP based RESTFUL services. The web API can be developed by using different technologies such as java, ASP.NET, etc. Web API is used in either a web server or a web browser. Basically Web API is a web development concept. It is limited to Web Application’s client-side and also it does not include a web server or web browser details. If an application is to be used on a distributed system and to provide services on different devices like laptops, mobiles, etc then web API services are used. Web API is the enhanced form of the web application.\n",
    "\n",
    "\n",
    "Web service is a collection of open source protocols and standards used for exchanging data between systems or applications, whereas API is a software interface that allows two applications to interact with each other without any user involvement.\n",
    "Web service is used for REST, SOAP, and XML-RPC for communication, while API is used for any style of communication.\n",
    "Web service supports only HTTP protocol, whereas API supports HTTP/HTTPS protocol.\n",
    "Web service supports XML, while API supports XML and JSON.\n",
    "All Web services are APIs, but all APIs are not web services."
   ]
  },
  {
   "cell_type": "markdown",
   "id": "f434096b",
   "metadata": {},
   "source": [
    "Q4. Explain REST and SOAP Architecture. Mention shortcomings of SOAP.\n",
    "\n",
    "\n",
    "REST: representational state transfer\n",
    "REST is a set of architectural principles attuned to the needs of lightweight web services and mobile applications. Because it's a set of guidelines, it leaves the implementation of these recommendations to developers.\n",
    "\n",
    "When a request for data is sent to a REST API, it’s usually done through hypertext transfer protocol (commonly referred to as HTTP). Once a request is received, APIs designed for REST (called RESTful APIs or RESTful web services) can return messages in a variety of formats: HTML, XML, plain text, and JSON. JSON (JavaScript object notation) is favored as a message format because it can be read by any programming language (despite the name), is human- and machine-readable, and is lightweight. In this way, RESTful APIs are more flexible and can be easier to set up.\n",
    "\n",
    "An application is said to be RESTful if it follows 6 architectural guidelines. A RESTful application must have:\n",
    "\n",
    "A client-server architecture composed of clients, servers, and resources.\n",
    "Stateless client-server communication, meaning no client content is stored on the server between requests. Information about the session’s state is instead held with the client.\n",
    "Cacheable data to eliminate the need for some client-server interactions.\n",
    "A uniform interface between components so that information is transferred in a standardized form instead of specific to an application’s needs. This is described by Roy Fielding, the originator of REST, as “the central feature that distinguishes the REST architectural style from other network-based styles.”\n",
    "A layered system constraint, where client-server interactions can be mediated by hierarchical layers.\n",
    "Code on demand, allowing servers to extend the functionality of a client by transferring executable code (though also reducing visibility, making this an optional guideline).\n",
    "SOAP: simple object access protocol\n",
    "SOAP is a standard protocol that was first designed so that applications built with different languages and on different platforms could communicate. Because it is a protocol, it imposes built-in rules that increase its complexity and overhead, which can lead to longer page load times. However, these standards also offer built-in compliances that can make it preferable for enterprise scenarios. The built-in compliance standards include security, atomicity, consistency, isolation, and durability (ACID), which is a set of properties for ensuring reliable database transactions.\n",
    "\n",
    "Common web service specifications include:\n",
    "\n",
    "Web services security (WS-security): Standardizes how messages are secured and transferred through unique identifiers called tokens.\n",
    "WS-ReliableMessaging: Standardizes error handling between messages transferred across unreliable IT infrastructure.\n",
    "Web services addressing (WS-addressing): Packages routing information as metadata within SOAP headers, instead of maintaining such information deeper within the network.\n",
    "Web services description language (WSDL): Describes what a web service does, and where that service begins and ends.\n",
    "When a request for data is sent to a SOAP API, it can be handled through any of the application layer protocols: HTTP (for web browsers), SMTP (for email), TCP, and others. However, once a request is received, return SOAP messages must be returned as XML documents—a markup language that is both human- and machine-readable. A completed request to a SOAP API is not cacheable by a browser, so it cannot be accessed later without resending to the API."
   ]
  },
  {
   "cell_type": "markdown",
   "id": "2d139b7a",
   "metadata": {},
   "source": [
    "Q5. Differentiate between REST and SOAP.\n",
    "SOAP vs. REST\n",
    "Many legacy systems may still adhere to SOAP, while REST came later and is often viewed as a faster alternative in web-based scenarios. REST is a set of guidelines that offers flexible implementation, whereas SOAP is a protocol with specific requirements like XML messaging.\n",
    "\n",
    "REST APIs are lightweight, making them ideal for newer contexts like the Internet of Things (IoT), mobile application development, and serverless computing. SOAP web services offer built-in security and transaction compliance that align with many enterprise needs, but that also makes them heavier. Additionally, many public APIs, like the Google Maps API, follow the REST guidelines."
   ]
  },
  {
   "cell_type": "code",
   "execution_count": null,
   "id": "f46ab609",
   "metadata": {},
   "outputs": [],
   "source": []
  },
  {
   "cell_type": "code",
   "execution_count": null,
   "id": "8dab9bfb",
   "metadata": {},
   "outputs": [],
   "source": []
  },
  {
   "cell_type": "code",
   "execution_count": null,
   "id": "e5bf29c2",
   "metadata": {},
   "outputs": [],
   "source": []
  },
  {
   "cell_type": "code",
   "execution_count": null,
   "id": "aeb36e8b",
   "metadata": {},
   "outputs": [],
   "source": []
  },
  {
   "cell_type": "code",
   "execution_count": null,
   "id": "e947f441",
   "metadata": {},
   "outputs": [],
   "source": []
  }
 ],
 "metadata": {
  "kernelspec": {
   "display_name": "Python 3 (ipykernel)",
   "language": "python",
   "name": "python3"
  },
  "language_info": {
   "codemirror_mode": {
    "name": "ipython",
    "version": 3
   },
   "file_extension": ".py",
   "mimetype": "text/x-python",
   "name": "python",
   "nbconvert_exporter": "python",
   "pygments_lexer": "ipython3",
   "version": "3.9.12"
  }
 },
 "nbformat": 4,
 "nbformat_minor": 5
}
