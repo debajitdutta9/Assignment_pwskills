{
 "cells": [
  {
   "cell_type": "code",
   "execution_count": 21,
   "id": "63240788",
   "metadata": {},
   "outputs": [
    {
     "data": {
      "text/plain": [
       "[1, 3, 5, 7, 9, 11, 13, 15, 17, 19, 21, 23, 25]"
      ]
     },
     "execution_count": 21,
     "metadata": {},
     "output_type": "execute_result"
    }
   ],
   "source": [
    "# Q1. Which keyword is used to create a function? Create a function to return a list of odd numbers in the\n",
    "# range of 1 to 25.\n",
    "\n",
    "# def keyword is used to create a function?\n",
    "def odd():\n",
    "    l1=[]\n",
    "    for i in range(1,25+1):\n",
    "        if i%2!=0:\n",
    "            l1.append(i)\n",
    "    return l1\n",
    "odd()"
   ]
  },
  {
   "cell_type": "code",
   "execution_count": 20,
   "id": "79cdbf38",
   "metadata": {},
   "outputs": [
    {
     "name": "stdout",
     "output_type": "stream",
     "text": [
      "[4, 5, 6, 5]\n",
      "('name', 'debajit')\n",
      "('phone', 916331)\n"
     ]
    }
   ],
   "source": [
    "#Q2. Why *args and **kwargs is used in some functions? Create a function each for *args and **kwargs\n",
    "# to demonstrate their use.\n",
    "\n",
    "# ans:\n",
    "# *args :The special syntax *args in function definitions in python is used to pass a variable number of arguments to a function. It is used to pass a non-key worded, variable-length argument list. \n",
    "# **kwargs :The special syntax **kwargs in function definitions in python is used to pass a keyworded, variable-length argument list. We use the name kwargs with the double star. \n",
    "# The reason is that the double star allows us to pass through keyword arguments (and any number of them).\n",
    "def func1(*args):\n",
    "    for i in args:\n",
    "        print(i)\n",
    "def func2(**kwargs):\n",
    "    for i in kwargs.items():\n",
    "        print(i)\n",
    "        \n",
    "s=[4,5,6,5]\n",
    "\n",
    "func1(s)\n",
    "func2(name=\"debajit\",phone=916331)"
   ]
  },
  {
   "cell_type": "code",
   "execution_count": 16,
   "id": "3fc08298",
   "metadata": {},
   "outputs": [
    {
     "name": "stdout",
     "output_type": "stream",
     "text": [
      "2\n",
      "4\n",
      "6\n",
      "8\n",
      "10\n"
     ]
    }
   ],
   "source": [
    "#Q3. What is an iterator in python? Name the method used to initialise the iterator object and the method\n",
    "# used for iteration. Use these methods to print the first five elements of the given list [2, 4, 6, 8, 10, 12, 14,\n",
    "# 16, 18, 20].\n",
    "\n",
    "# ans : Iterator in Python is an object that is used to iterate over iterable objects like lists, tuples, dicts, and sets. \n",
    "# The iterator object is initialized using the iter() method. It uses the next() method for iteration.\n",
    "\n",
    "l1= [2, 4, 6, 8, 10, 12, 14,16,18,20]\n",
    "it=iter(l1)\n",
    "for i in range(5):\n",
    "    print(next(it))"
   ]
  },
  {
   "cell_type": "code",
   "execution_count": null,
   "id": "d5be27c8",
   "metadata": {},
   "outputs": [],
   "source": [
    "#Q4. What is a generator function in python? Why yield keyword is used? Give an example of a generator\n",
    "# function.\n",
    "\n",
    "# ans :In Python, a generator is a function that returns an iterator that produces a sequence of values when iterated over.\n",
    "# Generators are useful when we want to produce a large sequence of values, but we don't \n",
    "# want to store all of them in memory at once.\n",
    "# yield keyword is used to create a generator function.\n",
    "# example of a generator\n",
    "# function is 'range(12)''"
   ]
  },
  {
   "cell_type": "code",
   "execution_count": 13,
   "id": "7de0d6dc",
   "metadata": {},
   "outputs": [],
   "source": [
    "# Q5. Create a generator function for prime numbers less than 1000. Use the next() method to print the\n",
    "# first 20 prime numbers.\n",
    "    \n",
    "\n",
    "def prime():\n",
    "    num=1\n",
    "    while num<=1000:\n",
    "        for i in (2,num//2+1):\n",
    "            if num%i==0:\n",
    "                break\n",
    "            else:\n",
    "                yield num\n",
    "                num=num+1\n",
    "        num=num+1"
   ]
  },
  {
   "cell_type": "code",
   "execution_count": 14,
   "id": "cd1124c8",
   "metadata": {},
   "outputs": [
    {
     "name": "stdout",
     "output_type": "stream",
     "text": [
      "1\n",
      "3\n",
      "5\n",
      "7\n",
      "9\n",
      "11\n",
      "13\n",
      "15\n",
      "17\n",
      "19\n",
      "21\n",
      "23\n",
      "25\n",
      "27\n",
      "29\n",
      "31\n",
      "33\n",
      "35\n",
      "37\n",
      "39\n"
     ]
    }
   ],
   "source": [
    "a=prime()\n",
    "for i in range(20):\n",
    "    print(next(a))"
   ]
  },
  {
   "cell_type": "code",
   "execution_count": null,
   "id": "ff79fafe",
   "metadata": {},
   "outputs": [],
   "source": [
    "# Q6. Write a python program to print the first 10 Fibonacci numbers using a while loop.\n",
    "i=0\n",
    "a,b=0,1\n",
    "while i<10:\n",
    "    print(a)\n",
    "    a,b=b,a+b\n",
    "    i=i+1\n"
   ]
  },
  {
   "cell_type": "code",
   "execution_count": null,
   "id": "034dda51",
   "metadata": {},
   "outputs": [],
   "source": [
    "# Q7. Write a List Comprehension to iterate through the given string: ‘pwskills’.\n",
    "# Expected output: ['p', 'w', 's', 'k', 'i', 'l', 'l', 's']\n",
    "\n",
    "s='pwskills'\n",
    "[i for i in s]"
   ]
  },
  {
   "cell_type": "code",
   "execution_count": 10,
   "id": "c5255774",
   "metadata": {},
   "outputs": [
    {
     "name": "stdout",
     "output_type": "stream",
     "text": [
      "enter the number :121\n",
      "palindrome\n"
     ]
    }
   ],
   "source": [
    "# Q8. Write a python program to check whether a given number is Palindrome or not using a while loop.\n",
    "n=input(\"enter the number :\")\n",
    "if n[:]==n[::-1]:\n",
    "    print(\"palindrome\")\n",
    "else:\n",
    "    print(\"not palindrome\")"
   ]
  },
  {
   "cell_type": "code",
   "execution_count": 7,
   "id": "de2ef7ed",
   "metadata": {},
   "outputs": [
    {
     "name": "stdout",
     "output_type": "stream",
     "text": [
      "[1, 3, 5, 7, 9, 11, 13, 15, 17, 19, 21, 23, 25, 27, 29, 31, 33, 35, 37, 39, 41, 43, 45, 47, 49, 51, 53, 55, 57, 59, 61, 63, 65, 67, 69, 71, 73, 75, 77, 79, 81, 83, 85, 87, 89, 91, 93, 95, 97, 99]\n"
     ]
    }
   ],
   "source": [
    "# Q9. Write a code to print odd numbers from 1 to 100 using list comprehension.\n",
    "# Note: Use a list comprehension to create a list from 1 to 100 and use another List comprehension to filter\n",
    "# out odd numbers.\n",
    "\n",
    "\n",
    "l1=list(range(1,100+1))\n",
    "print([i for i in l1 if i%2!=0])"
   ]
  },
  {
   "cell_type": "code",
   "execution_count": null,
   "id": "b21a5fa3",
   "metadata": {},
   "outputs": [],
   "source": []
  }
 ],
 "metadata": {
  "kernelspec": {
   "display_name": "Python 3 (ipykernel)",
   "language": "python",
   "name": "python3"
  },
  "language_info": {
   "codemirror_mode": {
    "name": "ipython",
    "version": 3
   },
   "file_extension": ".py",
   "mimetype": "text/x-python",
   "name": "python",
   "nbconvert_exporter": "python",
   "pygments_lexer": "ipython3",
   "version": "3.9.12"
  }
 },
 "nbformat": 4,
 "nbformat_minor": 5
}
