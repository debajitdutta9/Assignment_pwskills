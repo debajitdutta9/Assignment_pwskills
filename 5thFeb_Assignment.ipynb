{
 "cells": [
  {
   "cell_type": "markdown",
   "id": "803d3570-18fc-4f87-9c5f-f5d34f15596a",
   "metadata": {},
   "source": [
    "Q1. Explain Class and Object with respect to Object-Oriented Programming. Give a suitable example.\n",
    "\n",
    "Ans.\n",
    "\n",
    "A Class is a blueprint or a template for creating objects. It defines a set of attributes and methods that can be used by objects created from the class. Classes serve as a basis for creating new user-defined data types and can be thought of as a blueprint for creating objects of a specific type.\n",
    "\n",
    "An Object is an instance of a class. It is a real-world entity that has attributes (represented by instance variables) and behaviors (represented by methods). An object is an instance of a class and can be created by calling the class as a function.\n",
    "\n"
   ]
  },
  {
   "cell_type": "code",
   "execution_count": 2,
   "id": "5f51e686-27d8-4b5a-a50a-b5b6f93b8e00",
   "metadata": {},
   "outputs": [
    {
     "name": "stdout",
     "output_type": "stream",
     "text": [
      "John Doe\n",
      "25\n",
      "Hello, my name is John Doe\n",
      "Jane Doe is walking.\n",
      "Jane Doe is running.\n"
     ]
    }
   ],
   "source": [
    "# Ex.\n",
    "\n",
    "'''For example, consider a class \"Person\".\n",
    "This class can have attributes like name, age, address and methods like speak(), walk(), run(). \n",
    "Now, if we create two objects \"John\" and \"Jane\" from this class,\n",
    "then each object will have its own set of attributes and behaviors. \n",
    "For example, John can have the name attribute set to \"John Doe\" and Jane can have \n",
    "the name attribute set to \"Jane Doe\".'''\n",
    "\n",
    "class Person:\n",
    "    def __init__(self, name, age, address):\n",
    "        self.name = name\n",
    "        self.age = age\n",
    "        self.address = address\n",
    "\n",
    "    def speak(self):\n",
    "        print(\"Hello, my name is\", self.name)\n",
    "\n",
    "    def walk(self):\n",
    "        print(self.name, \"is walking.\")\n",
    "\n",
    "    def run(self):\n",
    "        print(self.name, \"is running.\")\n",
    "\n",
    "# creating objects\n",
    "person1 = Person(\"John Doe\", 30, \"123 Main Street\")\n",
    "person2 = Person(\"Jane Doe\", 25, \"456 Market Road\")\n",
    "\n",
    "# accessing object properties\n",
    "print(person1.name)\n",
    "print(person2.age)\n",
    "\n",
    "# calling object methods\n",
    "person1.speak()\n",
    "person2.walk()\n",
    "person2.run()\n"
   ]
  },
  {
   "cell_type": "markdown",
   "id": "91ad3eab-35cb-492c-b5fd-724b2f7e1cb3",
   "metadata": {},
   "source": [
    "Q2. Name the four pillars of OOPs.\n",
    "\n",
    "Ans.\n",
    "\n",
    "The four pillars of Object-Oriented Programming (OOP) are:\n",
    "\n",
    "1.Abstraction: It is the process of hiding the implementation details and exposing only the necessary information to   the user.\n",
    "\n",
    "2.Encapsulation: It is the mechanism of wrapping data and code together as a single unit to protect the data from     the outside world.\n",
    "\n",
    "3.Inheritance: It is the mechanism of creating a new class based on an existing class, where the new class inherits   all the attributes and methods of the existing class.\n",
    "\n",
    "4.Polymorphism: It is the ability of an object to take multiple forms. This means that a single function or method     can perform different operations based on the context in which it is called.\n"
   ]
  },
  {
   "cell_type": "markdown",
   "id": "18cbbfb5-d278-4468-ba3d-f19e91f8db95",
   "metadata": {},
   "source": [
    "Q3. Explain why the __init__() function is used. Give a suitable example.\n",
    "\n",
    "Ans.\n",
    "\n",
    "    The __init__() function is used in Python as a special method or constructor of a class. It is called automatically when an object of the class is created and is used to initialize the attributes or properties of the class.\n",
    "    \n",
    "    The __init__() function allows you to pass initial values to the object when it is created, making it easier to set up the object with the required state\n",
    "    "
   ]
  },
  {
   "cell_type": "code",
   "execution_count": 5,
   "id": "3dd8462b-a172-4035-b7ea-2050e15d2a11",
   "metadata": {},
   "outputs": [
    {
     "name": "stdout",
     "output_type": "stream",
     "text": [
      "Prahlad kumar \n",
      "345\n"
     ]
    }
   ],
   "source": [
    "# for example:\n",
    "\n",
    "class Student:\n",
    "    def __init__(self, name, roll_number):\n",
    "        self.name = name\n",
    "        self.roll_number = roll_number\n",
    "\n",
    "student = Student(\"Prahlad kumar \", 345)\n",
    "print(student.name)\n",
    "print(student.roll_number)"
   ]
  },
  {
   "cell_type": "markdown",
   "id": "44287ef2-411e-48aa-b195-6a21dc5bced9",
   "metadata": {},
   "source": [
    "Q4. Why self is used in OOPs?\n",
    "\n",
    "Ans. \n",
    "\n",
    "In object-oriented programming (OOP), self is used to refer to the current instance of a class. It is a reference to the instance on which a method is being invoked and is used to access the attributes and methods of the class. The use of self allows each object to have its own copy of the instance variables, and ensures that the method is operating on the correct instance of the class."
   ]
  },
  {
   "cell_type": "markdown",
   "id": "b918e05e-861d-4d0b-b9c6-dfefa01146f3",
   "metadata": {},
   "source": [
    "Q5. What is inheritance? Give an example for each type of inheritance.\n",
    "\n",
    "Ans.\n",
    "\n",
    "Inheritance is a mechanism in object-oriented programming (OOP) where a new class is created by inheriting properties and behaviors from an existing class, known as the base class or parent class. The new class is called the derived class or child class.\n",
    "\n",
    "There are several types of inheritance in OOP, including:\n",
    "\n",
    "\n"
   ]
  },
  {
   "cell_type": "code",
   "execution_count": 7,
   "id": "0cd7a65a-38fc-4658-a203-44ea2aeda75f",
   "metadata": {},
   "outputs": [
    {
     "name": "stdout",
     "output_type": "stream",
     "text": [
      "Species: Dog\n",
      "Breed: Labrador\n"
     ]
    }
   ],
   "source": [
    "'''\n",
    "1.Single inheritance: The derived class inherits properties and behaviors from a single base class.\n",
    "\n",
    "'''\n",
    "\n",
    "\n",
    "\n",
    "class Animal:\n",
    "    def __init__(self, name, species):\n",
    "        self.name = name\n",
    "        self.species = species\n",
    "\n",
    "    def show_species(self):\n",
    "        print(\"Species:\", self.species)\n",
    "\n",
    "class Dog(Animal):\n",
    "    def __init__(self, name, breed):\n",
    "        Animal.__init__(self, name, species=\"Dog\")\n",
    "        self.breed = breed\n",
    "\n",
    "    def show_breed(self):\n",
    "        print(\"Breed:\", self.breed)\n",
    "\n",
    "dog = Dog(\"Max\", \"Labrador\")\n",
    "dog.show_species() \n",
    "dog.show_breed() \n"
   ]
  },
  {
   "cell_type": "code",
   "execution_count": 8,
   "id": "cc88cd42-88f9-4613-a8ab-ed6d41f508be",
   "metadata": {},
   "outputs": [
    {
     "name": "stdout",
     "output_type": "stream",
     "text": [
      "Species: Mammal\n",
      "Animal Type: Domestic Animal\n",
      "Breed: Labrador\n"
     ]
    }
   ],
   "source": [
    "'''\n",
    "\n",
    "2.Multi-level inheritance: The derived class inherits properties and behaviors from a base class, which in turn inherits properties and behaviors from another base class.\n",
    "\n",
    "'''\n",
    "\n",
    "class Animal:\n",
    "    def __init__(self, name, species):\n",
    "        self.name = name\n",
    "        self.species = species\n",
    "\n",
    "    def show_species(self):\n",
    "        print(\"Species:\", self.species)\n",
    "\n",
    "class Mammal(Animal):\n",
    "    def __init__(self, name, animal_type):\n",
    "        Animal.__init__(self, name, species=\"Mammal\")\n",
    "        self.animal_type = animal_type\n",
    "\n",
    "    def show_animal_type(self):\n",
    "        print(\"Animal Type:\", self.animal_type)\n",
    "\n",
    "class Dog(Mammal):\n",
    "    def __init__(self, name, breed):\n",
    "        Mammal.__init__(self, name, animal_type=\"Domestic Animal\")\n",
    "        self.breed = breed\n",
    "\n",
    "    def show_breed(self):\n",
    "        print(\"Breed:\", self.breed)\n",
    "\n",
    "dog = Dog(\"Max\", \"Labrador\")\n",
    "dog.show_species() \n",
    "dog.show_animal_type() \n",
    "dog.show_breed() \n"
   ]
  },
  {
   "cell_type": "code",
   "execution_count": 10,
   "id": "08225051-aef4-4f75-a5c3-0a71b75927a5",
   "metadata": {},
   "outputs": [],
   "source": [
    "'''\n",
    "\n",
    "3.Multiple inheritance: The derived class inherits properties and behaviors from multiple base classes.\n",
    "\n",
    "'''\n",
    "\n",
    "class Employee:\n",
    "    def __init__(self, name, employee_id):\n",
    "        self.name = name\n",
    "        self.employee_id = employee_id\n",
    "\n",
    "    def show_employee_id(self):\n",
    "        print(\"Employee ID:\", self.employee_id)\n",
    "\n",
    "class Person:\n",
    "    def __init__(self, name, age):\n",
    "        self.name = name\n",
    "        self.age = age\n",
    "\n",
    "    def show_age(self):\n",
    "        print(\"Age:\", self.age)\n",
    "\n",
    "class Manager(Employee, Person):\n",
    "    def __init__(self, name, employee_id, age, department):\n",
    "        Employee.__init__(self, name, employee_id)\n",
    "        Person.__init__(self, name, age)\n",
    "        self.department =department\n"
   ]
  }
 ],
 "metadata": {
  "kernelspec": {
   "display_name": "Python 3 (ipykernel)",
   "language": "python",
   "name": "python3"
  },
  "language_info": {
   "codemirror_mode": {
    "name": "ipython",
    "version": 3
   },
   "file_extension": ".py",
   "mimetype": "text/x-python",
   "name": "python",
   "nbconvert_exporter": "python",
   "pygments_lexer": "ipython3",
   "version": "3.10.8"
  }
 },
 "nbformat": 4,
 "nbformat_minor": 5
}
