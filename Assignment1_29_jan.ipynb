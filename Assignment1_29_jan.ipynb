{
 "cells": [
  {
   "cell_type": "code",
   "execution_count": null,
   "id": "9041553e",
   "metadata": {},
   "outputs": [],
   "source": []
  },
  {
   "cell_type": "code",
   "execution_count": 9,
   "id": "4069d265",
   "metadata": {},
   "outputs": [
    {
     "data": {
      "text/plain": [
       "'1. Who developed Python Programming Language?\\nPython was created by Guido van Rossum, and released in 1991.'"
      ]
     },
     "execution_count": 9,
     "metadata": {},
     "output_type": "execute_result"
    }
   ],
   "source": [
    "'''1. Who developed Python Programming Language?\n",
    "Python was created by Guido van Rossum, and released in 1991.'''\n"
   ]
  },
  {
   "cell_type": "code",
   "execution_count": 10,
   "id": "d43bc740",
   "metadata": {},
   "outputs": [
    {
     "data": {
      "text/plain": [
       "'2. Which type of Programming does Python support?\\nPython is an interpreted programming language, supporting object-oriented, structured, and functional programming.'"
      ]
     },
     "execution_count": 10,
     "metadata": {},
     "output_type": "execute_result"
    }
   ],
   "source": [
    "'''2. Which type of Programming does Python support?\n",
    "Python is an interpreted programming language, supporting object-oriented, structured, and functional programming.'''\n"
   ]
  },
  {
   "cell_type": "code",
   "execution_count": 11,
   "id": "8c9f620e",
   "metadata": {},
   "outputs": [
    {
     "data": {
      "text/plain": [
       "'3. Is Python case sensitive when dealing with identifiers?\\nYes, Python is a case-sensitive language.\\nidentifiers are used when we need to identify or access any memory location where datas are stored'"
      ]
     },
     "execution_count": 11,
     "metadata": {},
     "output_type": "execute_result"
    }
   ],
   "source": [
    "'''3. Is Python case sensitive when dealing with identifiers?\n",
    "Yes, Python is a case-sensitive language.\n",
    "identifiers are used when we need to identify or access any memory location where datas are stored'''"
   ]
  },
  {
   "cell_type": "code",
   "execution_count": 12,
   "id": "d26263bb",
   "metadata": {},
   "outputs": [
    {
     "data": {
      "text/plain": [
       "'4. What is the correct extension of the Python file?\\n.py\\n'"
      ]
     },
     "execution_count": 12,
     "metadata": {},
     "output_type": "execute_result"
    }
   ],
   "source": [
    "'''4. What is the correct extension of the Python file?\n",
    ".py\n",
    "'''"
   ]
  },
  {
   "cell_type": "code",
   "execution_count": 13,
   "id": "79025468",
   "metadata": {},
   "outputs": [
    {
     "data": {
      "text/plain": [
       "'\\n5. Is Python code compiled or interpreted?\\ninterpreted\\n'"
      ]
     },
     "execution_count": 13,
     "metadata": {},
     "output_type": "execute_result"
    }
   ],
   "source": [
    "'''\n",
    "5. Is Python code compiled or interpreted?\n",
    "interpreted\n",
    "'''"
   ]
  },
  {
   "cell_type": "code",
   "execution_count": 14,
   "id": "4f0ff800",
   "metadata": {},
   "outputs": [
    {
     "data": {
      "text/plain": [
       "'\\n6. Name a few blocks of code used to define in Python language?\\nA Python program is constructed from code blocks. A block is a piece of Python program text that is executed as a unit. The following are blocks: a module, a function body, and a class definition. Each command typed interactively is a bloc\\n\\n'"
      ]
     },
     "execution_count": 14,
     "metadata": {},
     "output_type": "execute_result"
    }
   ],
   "source": [
    "\n",
    "'''\n",
    "6. Name a few blocks of code used to define in Python language?\n",
    "A Python program is constructed from code blocks. A block is a piece of Python program text that is executed as a unit. The following are blocks: a module, a function body, and a class definition. Each command typed interactively is a bloc\n",
    "\n",
    "'''\n",
    "\n",
    "\n"
   ]
  },
  {
   "cell_type": "code",
   "execution_count": 15,
   "id": "407c5c13",
   "metadata": {},
   "outputs": [
    {
     "ename": "SyntaxError",
     "evalue": "invalid syntax (2353379592.py, line 4)",
     "output_type": "error",
     "traceback": [
      "\u001b[1;36m  Input \u001b[1;32mIn [15]\u001b[1;36m\u001b[0m\n\u001b[1;33m    we use this character # for single line comments\u001b[0m\n\u001b[1;37m       ^\u001b[0m\n\u001b[1;31mSyntaxError\u001b[0m\u001b[1;31m:\u001b[0m invalid syntax\n"
     ]
    }
   ],
   "source": [
    "''\n",
    "7. State a character used to give single-line comments in Python?\n",
    "\n",
    "we use this character # for single line comments\n",
    "'''"
   ]
  },
  {
   "cell_type": "code",
   "execution_count": 16,
   "id": "71647ead",
   "metadata": {},
   "outputs": [
    {
     "data": {
      "text/plain": [
       "'3.9.12 (main, Apr  4 2022, 05:22:27) [MSC v.1916 64 bit (AMD64)]'"
      ]
     },
     "execution_count": 16,
     "metadata": {},
     "output_type": "execute_result"
    }
   ],
   "source": [
    "'''\n",
    "8. Mention functions which can help us to find the version of python that we are currently working on?\n",
    "-->sys. version\n",
    "'''\n",
    "\n",
    "sys. version"
   ]
  },
  {
   "cell_type": "code",
   "execution_count": 17,
   "id": "e69a40cf",
   "metadata": {},
   "outputs": [
    {
     "data": {
      "text/plain": [
       "'\\n9. Python supports the creation of anonymous functions at runtime, using a construct called\\nPython supports to make anonymous functions which are not bound to a name(@ runtime). It uses a construct called \"lambda\" .\\n'"
      ]
     },
     "execution_count": 17,
     "metadata": {},
     "output_type": "execute_result"
    }
   ],
   "source": [
    "'''\n",
    "9. Python supports the creation of anonymous functions at runtime, using a construct called\n",
    "Python supports to make anonymous functions which are not bound to a name(@ runtime). It uses a construct called \"lambda\" .\n",
    "'''"
   ]
  },
  {
   "cell_type": "code",
   "execution_count": 18,
   "id": "b12b9e35",
   "metadata": {},
   "outputs": [
    {
     "data": {
      "text/plain": [
       "'\\n10. What does pip stand for python?\\npip stands for \"preferred installer program\"\\n\\n'"
      ]
     },
     "execution_count": 18,
     "metadata": {},
     "output_type": "execute_result"
    }
   ],
   "source": [
    "'''\n",
    "10. What does pip stand for python?\n",
    "pip stands for \"preferred installer program\"\n",
    "\n",
    "'''"
   ]
  },
  {
   "cell_type": "code",
   "execution_count": 19,
   "id": "aac3bfbe",
   "metadata": {},
   "outputs": [
    {
     "data": {
      "text/plain": [
       "'\\n11. Mention a few built-in functions in python\\nprint( ) function.\\ntype( ) function.\\ninput( ) function.\\nabs( ) function.\\npow( ) function.\\ndir( ) function.\\nsorted( ) function.\\nmax( ) function.\\netc\\n'"
      ]
     },
     "execution_count": 19,
     "metadata": {},
     "output_type": "execute_result"
    }
   ],
   "source": [
    "'''\n",
    "11. Mention a few built-in functions in python\n",
    "print( ) function.\n",
    "type( ) function.\n",
    "input( ) function.\n",
    "abs( ) function.\n",
    "pow( ) function.\n",
    "dir( ) function.\n",
    "sorted( ) function.\n",
    "max( ) function.\n",
    "etc\n",
    "'''"
   ]
  },
  {
   "cell_type": "code",
   "execution_count": 20,
   "id": "1ad8658f",
   "metadata": {},
   "outputs": [
    {
     "data": {
      "text/plain": [
       "'\\n12. What is the maximum possible length of an identifier in Python?\\nmaximum possible length of an identifier in Python is 79 character\\n'"
      ]
     },
     "execution_count": 20,
     "metadata": {},
     "output_type": "execute_result"
    }
   ],
   "source": [
    "'''\n",
    "12. What is the maximum possible length of an identifier in Python?\n",
    "maximum possible length of an identifier in Python is 79 character\n",
    "'''"
   ]
  },
  {
   "cell_type": "code",
   "execution_count": 21,
   "id": "9e1eabae",
   "metadata": {},
   "outputs": [
    {
     "data": {
      "text/plain": [
       "'\\n13. What are the benefits of using Python?\\n\\nAdvantages of Python\\nSimple to Use and Understand. For newcomers, Python is simple to understand and use. \\nFree and Open-Source. Video Player is loading. \\nProductivity has Increased. \\nInterpreted Language. \\nExtensive library. \\nDynamically Typed. \\nPortability. \\nSupportive community.\\n\\n\\n'"
      ]
     },
     "execution_count": 21,
     "metadata": {},
     "output_type": "execute_result"
    }
   ],
   "source": [
    "'''\n",
    "13. What are the benefits of using Python?\n",
    "\n",
    "Advantages of Python\n",
    "Simple to Use and Understand. For newcomers, Python is simple to understand and use. \n",
    "Free and Open-Source. Video Player is loading. \n",
    "Productivity has Increased. \n",
    "Interpreted Language. \n",
    "Extensive library. \n",
    "Dynamically Typed. \n",
    "Portability. \n",
    "Supportive community.\n",
    "\n",
    "\n",
    "'''"
   ]
  },
  {
   "cell_type": "code",
   "execution_count": 22,
   "id": "76fe1df8",
   "metadata": {},
   "outputs": [
    {
     "data": {
      "text/plain": [
       "'\\n\\n14. How is memory managed in Python?\\n\\nMemory management in Python involves a private heap containing all Python objects and data structures.\\nThe management of this private heap is ensured internally by the Python memory manager.\\nThe Python memory manager has different components which deal with various dynamic storage management aspects, like sharing, segmentation, preallocation or caching.\\n\\n'"
      ]
     },
     "execution_count": 22,
     "metadata": {},
     "output_type": "execute_result"
    }
   ],
   "source": [
    "'''\n",
    "\n",
    "14. How is memory managed in Python?\n",
    "\n",
    "Memory management in Python involves a private heap containing all Python objects and data structures.\n",
    "The management of this private heap is ensured internally by the Python memory manager.\n",
    "The Python memory manager has different components which deal with various dynamic storage management aspects, like sharing, segmentation, preallocation or caching.\n",
    "\n",
    "'''"
   ]
  },
  {
   "cell_type": "code",
   "execution_count": 23,
   "id": "9da4fa58",
   "metadata": {},
   "outputs": [
    {
     "data": {
      "text/plain": [
       "\"\\n15. How to install Python on Windows and set path variables?\\nInstall python from this link https://www.python.org/downloads/\\nAfter this, install it on your PC. Look for the location where PYTHON has been installed on your PC using tge following command on your command prompt: cmd python.\\nThen go to advanced system settings and add new variable and name it as PYTHON_NAME and paste the copied path.\\nThen look for the path variable, select it's value and select edit\\nAdd a semicolon towards the end of the value if it's not present and then type %PYTHON_HOME%\\n\\n\""
      ]
     },
     "execution_count": 23,
     "metadata": {},
     "output_type": "execute_result"
    }
   ],
   "source": [
    "'''\n",
    "15. How to install Python on Windows and set path variables?\n",
    "Install python from this link https://www.python.org/downloads/\n",
    "After this, install it on your PC. Look for the location where PYTHON has been installed on your PC using tge following command on your command prompt: cmd python.\n",
    "Then go to advanced system settings and add new variable and name it as PYTHON_NAME and paste the copied path.\n",
    "Then look for the path variable, select it's value and select edit\n",
    "Add a semicolon towards the end of the value if it's not present and then type %PYTHON_HOME%\n",
    "\n",
    "'''"
   ]
  },
  {
   "cell_type": "code",
   "execution_count": 24,
   "id": "1d89bf38",
   "metadata": {},
   "outputs": [
    {
     "data": {
      "text/plain": [
       "'\\n16. Is indentation required\\xa0in\\xa0python?\\nIndentation refers to the spaces at the beginning of a code line.\\nWhere in other programming languages the indentation in code is for readability only, the indentation in Python is very important.\\nPython uses indentation to indicate a block of code.\\n\\nExample\\nif 5 > 2:\\n  print(\"Five is greater than two!\")\\n\\n'"
      ]
     },
     "execution_count": 24,
     "metadata": {},
     "output_type": "execute_result"
    }
   ],
   "source": [
    "'''\n",
    "16. Is indentation required in python?\n",
    "Indentation refers to the spaces at the beginning of a code line.\n",
    "Where in other programming languages the indentation in code is for readability only, the indentation in Python is very important.\n",
    "Python uses indentation to indicate a block of code.\n",
    "\n",
    "Example\n",
    "if 5 > 2:\n",
    "  print(\"Five is greater than two!\")\n",
    "\n",
    "'''"
   ]
  },
  {
   "cell_type": "code",
   "execution_count": null,
   "id": "0dd377cb",
   "metadata": {},
   "outputs": [],
   "source": []
  },
  {
   "cell_type": "code",
   "execution_count": null,
   "id": "2b7252ff",
   "metadata": {},
   "outputs": [],
   "source": []
  },
  {
   "cell_type": "code",
   "execution_count": null,
   "id": "f0fd0de0",
   "metadata": {},
   "outputs": [],
   "source": []
  }
 ],
 "metadata": {
  "kernelspec": {
   "display_name": "Python 3 (ipykernel)",
   "language": "python",
   "name": "python3"
  },
  "language_info": {
   "codemirror_mode": {
    "name": "ipython",
    "version": 3
   },
   "file_extension": ".py",
   "mimetype": "text/x-python",
   "name": "python",
   "nbconvert_exporter": "python",
   "pygments_lexer": "ipython3",
   "version": "3.9.12"
  }
 },
 "nbformat": 4,
 "nbformat_minor": 5
}
