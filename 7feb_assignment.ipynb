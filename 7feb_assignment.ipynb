{
 "cells": [
  {
   "cell_type": "markdown",
   "id": "1df061fc-08f9-44f9-ab35-d8a5765c4751",
   "metadata": {},
   "source": [
    "Q1. You are writing code for a company. The requirement of the company is that you create a python\n",
    "function that will check whether the password entered by the user is correct or not. The function should\n",
    "take the password as input and return the string “Valid Password” if the entered password follows the\n",
    "below-given password guidelines else it should return “Invalid Password”.          \n",
    "Note:       \n",
    "1. The Password should contain at least two uppercase letters and at least two lowercase letters.            \n",
    "2. The Password should contain at least a number and three special characters.      \n",
    "3. The length of the password should be 10 characters long.         \n"
   ]
  },
  {
   "cell_type": "code",
   "execution_count": 7,
   "id": "7f3f57d9-c0ee-4288-a5b4-977fa71f78a7",
   "metadata": {},
   "outputs": [
    {
     "name": "stdin",
     "output_type": "stream",
     "text": [
      "Enter the Password:  PrAhla@#$1\n"
     ]
    },
    {
     "name": "stdout",
     "output_type": "stream",
     "text": [
      "Valid Password\n"
     ]
    }
   ],
   "source": [
    "# Ans 1.\n",
    "\n",
    "def check_pass(pas):\n",
    "    if len(pas)==10:\n",
    "        upper_count=0\n",
    "        lower_count=0\n",
    "        num_count=0\n",
    "        special_count=0\n",
    "        for i in pas:\n",
    "            if i.isupper():\n",
    "                upper_count+=1\n",
    "            if i.islower():\n",
    "                lower_count+=1\n",
    "            if i.isdigit():\n",
    "                num_count+=1\n",
    "            if i in ['!','@','#','$','%','^','&','*','(',')']:\n",
    "                special_count+=1\n",
    "                \n",
    "        if upper_count>=2 and lower_count>=2 and num_count>=1 and special_count>=3:\n",
    "            return True\n",
    "    else:\n",
    "        return 0\n",
    "    \n",
    "\n",
    "pas=input(\"Enter the Password: \")\n",
    "\n",
    "result=check_pass(pas)\n",
    "\n",
    "if result :\n",
    "    print('Valid Password')\n",
    "    \n",
    "else:\n",
    "    print('Invalid Password')\n",
    "    \n",
    "        \n",
    "\n",
    "\n"
   ]
  },
  {
   "cell_type": "markdown",
   "id": "602cd0d8-99a6-4b16-8189-e85458fd45b0",
   "metadata": {},
   "source": [
    "Q2. Solve the below-given questions using at least one of the following:\n",
    "1. Lambda function         \n",
    "2. Filter function          \n",
    "3. Map function        \n",
    "4. List Comprehensioin           \n",
    "\n",
    "                    \n",
    " Check if the string starts with a particular letter         \n",
    " Check if the string is numericY              \n",
    " Sort a list of tuples having fruit names and their quantity. [(\"mango\",99),(\"orange\",80), (\"grapes\", 1000)]\n",
    " Find the squares of numbers from 1 to 10         \n",
    " Find the cube root of numbers from 1 to 10        \n",
    " Check if a given number is even            \n",
    " Filter odd numbers from the given list.     [1,2,3,4,5,6,7,8,9,10]            \n",
    " Sort a list of integers into positive and negative integers lists.   [1,2,3,4,5,6,-1,-2,-3,-4,-5,0]           "
   ]
  },
  {
   "cell_type": "code",
   "execution_count": 15,
   "id": "449b69a6-af3d-4f83-bd61-a6f91a0b57b7",
   "metadata": {},
   "outputs": [
    {
     "name": "stdout",
     "output_type": "stream",
     "text": [
      "True\n"
     ]
    }
   ],
   "source": [
    "# Ans.2\n",
    "\n",
    "# I. Check if the string starts with a particular letter\n",
    "\n",
    "list1=['Prahlad', 'Prakash','ravi', 'pratham','abhi','ansh']\n",
    "letter='p'\n",
    "list2=list(filter(lambda x :x.lower().startswith(letter),list1))\n",
    "\n",
    "if len(list2)>0:\n",
    "    print(True)\n",
    "else:\n",
    "    print(False)"
   ]
  },
  {
   "cell_type": "code",
   "execution_count": 19,
   "id": "e878479f-0258-40d8-b0d5-493377ed3b62",
   "metadata": {},
   "outputs": [
    {
     "name": "stdout",
     "output_type": "stream",
     "text": [
      "True\n"
     ]
    }
   ],
   "source": [
    "# II. Check if the string is numericY  \n",
    "\n",
    "strings = ['123', 'abc', '456', 'def']\n",
    "\n",
    "num_list=list(filter(lambda x: x.isdigit(), strings))\n",
    "\n",
    "if len(num_list)>0:\n",
    "    print(True)\n",
    "else:\n",
    "    print(False)"
   ]
  },
  {
   "cell_type": "code",
   "execution_count": 22,
   "id": "608d81d9-0ee3-4522-b60d-fb0ab4c72674",
   "metadata": {},
   "outputs": [
    {
     "data": {
      "text/plain": [
       "[('orange', 80), ('mango', 99), ('grapes', 1000)]"
      ]
     },
     "execution_count": 22,
     "metadata": {},
     "output_type": "execute_result"
    }
   ],
   "source": [
    "# III. Sort a list of tuples having fruit names and their quantity. [(\"mango\",99),(\"orange\",80), (\"grapes\", 1000)]\n",
    "\n",
    "fruits=[(\"mango\",99),(\"orange\",80), (\"grapes\", 1000)]\n",
    "\n",
    "sorted_fruits=sorted(fruits,key=lambda x: x[1])\n",
    "sorted_fruits\n"
   ]
  },
  {
   "cell_type": "code",
   "execution_count": 23,
   "id": "e41ea556-790e-45d3-9a28-e1092dcf5c9e",
   "metadata": {},
   "outputs": [
    {
     "data": {
      "text/plain": [
       "[1, 4, 9, 16, 25, 36, 49, 64, 81, 100]"
      ]
     },
     "execution_count": 23,
     "metadata": {},
     "output_type": "execute_result"
    }
   ],
   "source": [
    "# IV. Find the squares of numbers from 1 to 10 \n",
    "\n",
    "num=[i**2 for i in range(1,11)]\n"
   ]
  },
  {
   "cell_type": "code",
   "execution_count": 27,
   "id": "49171ac8-7f80-42f3-b719-6df569b01d5a",
   "metadata": {},
   "outputs": [
    {
     "data": {
      "text/plain": [
       "[1.0,\n",
       " 1.2599210498948732,\n",
       " 1.4422495703074083,\n",
       " 1.5874010519681994,\n",
       " 1.7099759466766968,\n",
       " 1.8171205928321397,\n",
       " 1.912931182772389,\n",
       " 2.0,\n",
       " 2.080083823051904,\n",
       " 2.154434690031884]"
      ]
     },
     "execution_count": 27,
     "metadata": {},
     "output_type": "execute_result"
    }
   ],
   "source": [
    "# V. Find the cube root of numbers from 1 to 10 \n",
    "import math\n",
    "num=[math.pow(i,1/3) for i in range(1,11)]\n",
    "num"
   ]
  },
  {
   "cell_type": "code",
   "execution_count": 30,
   "id": "4c60d7cb-497b-48f9-863e-ed206ecd6c74",
   "metadata": {},
   "outputs": [
    {
     "data": {
      "text/plain": [
       "[24, 456, 654, 32, 6, 2, 53434, 634, 2, 6546, 2, 234, 436]"
      ]
     },
     "execution_count": 30,
     "metadata": {},
     "output_type": "execute_result"
    }
   ],
   "source": [
    "# VI. Check if a given number is even\n",
    "num=[343,24,456,43,654,32,6,2,53434,634,2,543,6546,2,35,43,65,234,5,436,34535,3463]\n",
    "\n",
    "even_num=list(filter(lambda x:x%2==0,num))\n",
    "\n",
    "even_num\n"
   ]
  },
  {
   "cell_type": "code",
   "execution_count": 32,
   "id": "9cc0ebc5-d09c-43b3-bc41-3fd231853e55",
   "metadata": {},
   "outputs": [
    {
     "data": {
      "text/plain": [
       "[1, 3, 5, 7, 9]"
      ]
     },
     "execution_count": 32,
     "metadata": {},
     "output_type": "execute_result"
    }
   ],
   "source": [
    "# VII.Filter odd numbers from the given list. [1,2,3,4,5,6,7,8,9,10]\n",
    "\n",
    "num=[1,2,3,4,5,6,7,8,9,10]\n",
    "\n",
    "odd_num=list(filter(lambda x:x%2!=0,num))\n",
    "\n",
    "odd_num\n",
    "\n"
   ]
  },
  {
   "cell_type": "code",
   "execution_count": 44,
   "id": "2bc44451-293a-4a22-9d32-e1358945d819",
   "metadata": {},
   "outputs": [
    {
     "name": "stdout",
     "output_type": "stream",
     "text": [
      "[0, 1, 2, 3, 4, 5, 6]\n",
      "[-5, -4, -3, -2, -1]\n"
     ]
    }
   ],
   "source": [
    "# VIII.Sort a list of integers into positive and negative integers lists. [1,2,3,4,5,6,-1,-2,-3,-4,-5,0]\n",
    "\n",
    "num=[1,2,3,4,5,6,-1,-2,-3,-4,-5,0]\n",
    "\n",
    "positive_num=sorted(list(filter(lambda x:x>=0 ,num)))\n",
    "negative_num=sorted(list(filter(lambda x:x<0 ,num)))\n",
    "print(positive_num)\n",
    "print(negative_num)\n"
   ]
  }
 ],
 "metadata": {
  "kernelspec": {
   "display_name": "Python 3 (ipykernel)",
   "language": "python",
   "name": "python3"
  },
  "language_info": {
   "codemirror_mode": {
    "name": "ipython",
    "version": 3
   },
   "file_extension": ".py",
   "mimetype": "text/x-python",
   "name": "python",
   "nbconvert_exporter": "python",
   "pygments_lexer": "ipython3",
   "version": "3.10.8"
  }
 },
 "nbformat": 4,
 "nbformat_minor": 5
}
