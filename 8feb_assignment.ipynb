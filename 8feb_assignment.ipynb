{
 "cells": [
  {
   "cell_type": "markdown",
   "id": "27cbde4a-9995-4c23-a98c-6ee1ebfbb918",
   "metadata": {},
   "source": [
    "Q1. What is Abstraction in OOps? Explain with an example.\n",
    "\n",
    "Ans.\n",
    "\n",
    "        Abstraction in object-oriented programming (OOP) refers to the practice of hiding the implementation details of an object and exposing only the essential features that are necessary for users to interact with the object. The goal of abstraction is to simplify the use of objects by creating a higher-level interface that is easier to understand and use.\n",
    "        \n",
    "        In OOP, abstraction can be achieved using classes and objects. A class defines the blueprint for an object, including the data and behavior that the object will have. The data can be hidden from the user using private variables and the behavior can be exposed using public methods."
   ]
  },
  {
   "cell_type": "code",
   "execution_count": 9,
   "id": "10843269-dd7a-4c47-834b-9767761d8b78",
   "metadata": {},
   "outputs": [
    {
     "name": "stdout",
     "output_type": "stream",
     "text": [
      "Toyota\n",
      "Camry\n"
     ]
    },
    {
     "data": {
      "text/plain": [
       "'The abstraction in this example hides the implementation details of the car object and exposes\\nonly the essential features that the user needs to interact with.'"
      ]
     },
     "execution_count": 9,
     "metadata": {},
     "output_type": "execute_result"
    }
   ],
   "source": [
    "# for Example \n",
    "\n",
    "class Car:\n",
    "    def __init__(self, make, model):\n",
    "        self.__make = make\n",
    "        self.__model = model\n",
    "        \n",
    "    def get_make(self):\n",
    "        return self.__make\n",
    "    \n",
    "    def get_model(self):\n",
    "        return self.__model\n",
    "\n",
    "my_car = Car(\"Toyota\", \"Camry\")\n",
    "print(my_car.get_make())\n",
    "print(my_car.get_model())\n",
    "\n",
    "\"\"\"The abstraction in this example hides the implementation details of the car object and exposes\n",
    "only the essential features that the user needs to interact with.\"\"\""
   ]
  },
  {
   "cell_type": "markdown",
   "id": "468f5687-c992-4adb-b099-88af2461c498",
   "metadata": {},
   "source": [
    "Q2. Differentiate between Abstraction and Encapsulation. Explain with an example.\n",
    "\n",
    "Ans2.\n",
    "                                                                                                                   \n",
    "    Abstraction refers to the process of hiding the implementation details of an object and exposing only the essential features that are necessary for users to interact with the object. The goal of abstraction is to simplify the use of objects by creating a higher-level interface that is easier to understand and use.\n",
    "\n",
    "    Encapsulation refers to the bundling of data and behavior within an object. Encapsulation helps to protect the data of an object from outside interference and misuse by enforcing strict control over the object's access and manipulation."
   ]
  },
  {
   "cell_type": "code",
   "execution_count": 5,
   "id": "68f01323-0112-4b79-8186-978924b38615",
   "metadata": {},
   "outputs": [
    {
     "name": "stdout",
     "output_type": "stream",
     "text": [
      "Toyota\n",
      "Camry\n"
     ]
    },
    {
     "data": {
      "text/plain": [
       "'\\nThe abstraction in this example hides the implementation details of the car object and\\nexposes only the essential features that the user needs to interact with. The encapsulation\\nin this example protects the data of the car object bystoring it in private variables and \\nallowing access to it only through public methods.\\n\\n'"
      ]
     },
     "execution_count": 5,
     "metadata": {},
     "output_type": "execute_result"
    }
   ],
   "source": [
    "# for Example\n",
    "\n",
    "class Car:\n",
    "    def __init__(self, make, model):\n",
    "        self.__make = make\n",
    "        self.__model = model\n",
    "        \n",
    "    def get_make(self):\n",
    "        return self.__make\n",
    "    \n",
    "    def get_model(self):\n",
    "        return self.__model\n",
    "\n",
    "my_car = Car(\"Toyota\", \"Camry\")\n",
    "print(my_car.get_make())\n",
    "print(my_car.get_model())\n",
    "\n",
    "'''\n",
    "The abstraction in this example hides the implementation details of the car object and\n",
    "exposes only the essential features that the user needs to interact with. The encapsulation\n",
    "in this example protects the data of the car object bystoring it in private variables and \n",
    "allowing access to it only through public methods.\n",
    "\n",
    "'''"
   ]
  },
  {
   "cell_type": "markdown",
   "id": "e65a3fb7-c490-4a83-8c8b-bc1892623425",
   "metadata": {},
   "source": [
    "Q3. What is abc module in python? Why is it used?\n",
    "\n",
    "Ans3.\n",
    "\n",
    "    ABC stand for Abstract Base Class.\n",
    "    The abc  module in Python is a part of the standard library and provides support for defining abstract base     classes. Abstract base classes are used as a blueprint for creating objects in a subclass, and are used to define a common interface for a set of related objects.\n",
    "    \n",
    "    An ABC is an abstract class that cannot be instantiated. Instead, it defines a set of methods that must be implemented by any concrete class that inherits from the ABC. By using ABCs, developers can ensure that certain methods are present in all subclasses, leading to a more consistent and predictable interface across the codebase.\n",
    "\n",
    "    The abc module is used to define and register abstract base classes, and to check if a class is a subclass of an abstract base class.\n"
   ]
  },
  {
   "cell_type": "code",
   "execution_count": 10,
   "id": "cf07a5ff-d43c-41d0-ad67-b843c8bf8461",
   "metadata": {},
   "outputs": [],
   "source": [
    "# example of an abstract base class\n",
    "\n",
    "import abc\n",
    "\n",
    "class Animal(metaclass=abc.ABCMeta):\n",
    "    @abc.abstractmethod\n",
    "    def make_sound(self):\n",
    "        pass\n",
    "    \n",
    "    @abc.abstractmethod\n",
    "    def move(self):\n",
    "        pass\n",
    "        \n",
    "class Dog(Animal):\n",
    "    def make_sound(self):\n",
    "        return \"Bark\"\n",
    "    \n",
    "    def move(self):\n",
    "        return \"Walk\"\n",
    "\n",
    "class Cat(Animal):\n",
    "    def make_sound(self):\n",
    "        return \"Meow\"\n",
    "    \n",
    "    def move(self):\n",
    "        return \"Run\"\n",
    "\n",
    "\n"
   ]
  },
  {
   "cell_type": "markdown",
   "id": "10eb2817-72f2-4820-aa17-84267fa2fd0c",
   "metadata": {},
   "source": [
    "Q4. How can we achieve data abstraction?\n",
    "\n",
    "Ans4.\n",
    "\n",
    "Data abstraction in Python can be achieved through the use of classes and objects.\n",
    "\n",
    "A class defines the blueprint for an object and encapsulates data (attributes) and behaviors (methods) in a single entity. By encapsulating data and behaviors, classes provide a layer of abstraction between the implementation details and the outside world.\n",
    "\n",
    " Classes allow you to encapsulate data and behavior in a single entity, making it easier to manage and maintain the code. You can define the attributes and methods in a class, and create objects based on the class to work with the data."
   ]
  },
  {
   "cell_type": "markdown",
   "id": "4d67c0f6-576d-43ea-9bdb-c34f9e702ac9",
   "metadata": {},
   "source": [
    "Q5. Can we create an instance of an abstract class? Explain your answer.\n",
    "\n",
    "Ans5.\n",
    "\n",
    "An abstract class is a class that contains one or more abstract methods, which are methods without a body. These abstract classes are meant to be subclassed, where the subclasses implement the abstract methods.\n",
    "\n",
    "Because the abstract class contains abstract methods, which have no implementation, creating an instance of the abstract class would not be meaningful as the methods would not have any behavior to perform.\n",
    "\n",
    "In order to use the abstract class, you must create a subclass that implements the abstract methods and then create an instance of that subclass. This allows you to take advantage of the code and structure defined in the abstract class while still providing concrete behavior for the abstract methods."
   ]
  }
 ],
 "metadata": {
  "kernelspec": {
   "display_name": "Python 3 (ipykernel)",
   "language": "python",
   "name": "python3"
  },
  "language_info": {
   "codemirror_mode": {
    "name": "ipython",
    "version": 3
   },
   "file_extension": ".py",
   "mimetype": "text/x-python",
   "name": "python",
   "nbconvert_exporter": "python",
   "pygments_lexer": "ipython3",
   "version": "3.10.8"
  }
 },
 "nbformat": 4,
 "nbformat_minor": 5
}
