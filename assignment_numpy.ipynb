{
 "cells": [
  {
   "cell_type": "code",
   "execution_count": 10,
   "id": "658e9973-8a9c-4216-892b-42093034913c",
   "metadata": {},
   "outputs": [],
   "source": [
    "import numpy as np\n",
    "list_ = [ '1' , '2' , '3' , '4' , '5' ]\n",
    "array_list = np.array(object = list_)"
   ]
  },
  {
   "cell_type": "markdown",
   "id": "5c9e32b1-bf80-4741-b891-5a06c1d3ab42",
   "metadata": {},
   "source": [
    "Q1. Is there any difference in the data type of variables list_ and array_list? If there is then write a code\n",
    "to print the data types of both the variables."
   ]
  },
  {
   "cell_type": "markdown",
   "id": "d0e57a44-32e9-43ce-9569-6df70015ada9",
   "metadata": {},
   "source": [
    "Yes, there is a difference in the data type of variables list_ and array_list. The list_ variable is a Python list containing strings as its elements, while the array_list variable is a NumPy array containing integers as its elements."
   ]
  },
  {
   "cell_type": "code",
   "execution_count": 17,
   "id": "9f1440aa-5d3c-4687-b33b-4e653f241cc4",
   "metadata": {},
   "outputs": [
    {
     "name": "stdout",
     "output_type": "stream",
     "text": [
      "Type of list_ variable: <class 'list'>\n",
      "Type of array_list variable: <class 'numpy.ndarray'>\n"
     ]
    }
   ],
   "source": [
    "import numpy as np\n",
    "\n",
    "list_ = ['1', '2', '3', '4', '5']\n",
    "array_list = np.array(object=list_)\n",
    "\n",
    "print(\"Type of list_ variable:\", type(list_))\n",
    "print(\"Type of array_list variable:\", type(array_list))\n"
   ]
  },
  {
   "cell_type": "markdown",
   "id": "bcbf1c50-66be-4acb-a511-8e4bbcb9f7db",
   "metadata": {},
   "source": [
    "Q2. Write a code to print the data type of each and every element of both the variables list_ and\n",
    "arra_list."
   ]
  },
  {
   "cell_type": "code",
   "execution_count": 15,
   "id": "c58a8db9-df22-438d-b7bd-a41a380d8b66",
   "metadata": {},
   "outputs": [
    {
     "name": "stdout",
     "output_type": "stream",
     "text": [
      " element 1 in index 0 in list_: <class 'str'>\n",
      " element 1 in index 0 in array_list: <class 'numpy.int64'>\n",
      " element 2 in index 1 in list_: <class 'str'>\n",
      " element 2 in index 1 in array_list: <class 'numpy.int64'>\n",
      " element 3 in index 2 in list_: <class 'str'>\n",
      " element 3 in index 2 in array_list: <class 'numpy.int64'>\n",
      " element 4 in index 3 in list_: <class 'str'>\n",
      " element 4 in index 3 in array_list: <class 'numpy.int64'>\n",
      " element 5 in index 4 in list_: <class 'str'>\n",
      " element 5 in index 4 in array_list: <class 'numpy.int64'>\n"
     ]
    }
   ],
   "source": [
    "import numpy as np\n",
    "\n",
    "list_ = ['1', '2', '3', '4', '5']\n",
    "array_list = np.array(object=list_, dtype=int)\n",
    "\n",
    "for i in range(len(list_)):\n",
    "    print(\" element\",list_[i],\"in index\", i, \"in list_:\", type(list_[i]))\n",
    "    print(\" element\",array_list[i],\"in index\", i, \"in array_list:\", type(array_list[i]))\n"
   ]
  },
  {
   "cell_type": "markdown",
   "id": "afa1faca-fac7-4cb2-90e5-8cf3d429e38d",
   "metadata": {},
   "source": [
    "Q3. Considering the following changes in the variable, array_list:\n",
    "array_list = np.array(object = list_, dtype = int)\n",
    "Will there be any difference in the data type of the elements present in both the variables, list_ and\n",
    "arra_list? If so then print the data types of each and every element present in both the variables, list_\n",
    "and arra_list."
   ]
  },
  {
   "cell_type": "markdown",
   "id": "38aba8ec-d2a0-42b7-86d9-4c21af62db0b",
   "metadata": {},
   "source": [
    "yes, there will be a difference in the data type of the elements present in list_ and array_list. When we create array_list using the np.array() function and pass list_ as the object parameter and dtype=int, the elements of list_ will be converted to integers."
   ]
  },
  {
   "cell_type": "code",
   "execution_count": 11,
   "id": "2409e887-25c9-46cc-a4e6-1174cb07a8c9",
   "metadata": {},
   "outputs": [
    {
     "name": "stdout",
     "output_type": "stream",
     "text": [
      "Type of element 0 in list_: <class 'str'>\n",
      "Type of element 0 in array_list: <class 'numpy.str_'>\n",
      "Type of element 1 in list_: <class 'str'>\n",
      "Type of element 1 in array_list: <class 'numpy.str_'>\n",
      "Type of element 2 in list_: <class 'str'>\n",
      "Type of element 2 in array_list: <class 'numpy.str_'>\n",
      "Type of element 3 in list_: <class 'str'>\n",
      "Type of element 3 in array_list: <class 'numpy.str_'>\n",
      "Type of element 4 in list_: <class 'str'>\n",
      "Type of element 4 in array_list: <class 'numpy.str_'>\n"
     ]
    }
   ],
   "source": [
    "import numpy as np\n",
    "list_ = [ '1' , '2' , '3' , '4' , '5' ]\n",
    "array_list = np.array(object = list_)\n",
    "for i in range(len(list_)):\n",
    "    print(\"Type of element\", i, \"in list_:\", type(list_[i]))\n",
    "    print(\"Type of element\", i, \"in array_list:\", type(array_list[i]))"
   ]
  },
  {
   "cell_type": "code",
   "execution_count": 7,
   "id": "0b55bccb-614c-4ad3-8f52-eff39b9fec0f",
   "metadata": {},
   "outputs": [],
   "source": [
    "# Consider the below code to answer further questions:\n",
    "import numpy as np\n",
    "num_list = [ [ 1 , 2 , 3 ] , [ 4 , 5 , 6 ] ]\n",
    "num_array = np.array(object = num_list)\n"
   ]
  },
  {
   "cell_type": "code",
   "execution_count": null,
   "id": "146ec109-7fc4-4028-8845-09d7d1e3b6ab",
   "metadata": {},
   "outputs": [],
   "source": [
    "Q4. Write a code to find the following characteristics of variable, num_array:\n",
    "(i) shape\n",
    "(ii) size"
   ]
  },
  {
   "cell_type": "code",
   "execution_count": 8,
   "id": "bdf2356b-3cc3-4ab0-934f-2cd3efa7ab7d",
   "metadata": {},
   "outputs": [
    {
     "name": "stdout",
     "output_type": "stream",
     "text": [
      "Shape of num_array: (2, 3)\n",
      "Size of num_array: 6\n"
     ]
    }
   ],
   "source": [
    "import numpy as np\n",
    "\n",
    "num_list = [[1, 2, 3], [4, 5, 6]]\n",
    "num_array = np.array(object=num_list)\n",
    "\n",
    "print(\"Shape of num_array:\", num_array.shape)\n",
    "print(\"Size of num_array:\", num_array.size)"
   ]
  },
  {
   "cell_type": "markdown",
   "id": "cd211ab3-91c7-474a-a962-93b4a65ea188",
   "metadata": {},
   "source": [
    "Q5. Write a code to create numpy array of 3*3 matrix containing zeros only, using a numpy array\n",
    "creation function.\n",
    "[Hint: The size of the array will be 9 and the shape will be (3,3).]"
   ]
  },
  {
   "cell_type": "code",
   "execution_count": 5,
   "id": "8942e5b3-f81c-404b-85ff-d52336c38d42",
   "metadata": {},
   "outputs": [
    {
     "data": {
      "text/plain": [
       "array([[0., 0., 0.],\n",
       "       [0., 0., 0.],\n",
       "       [0., 0., 0.]])"
      ]
     },
     "execution_count": 5,
     "metadata": {},
     "output_type": "execute_result"
    }
   ],
   "source": [
    "import numpy as np\n",
    "np.zeros((3,3))"
   ]
  },
  {
   "cell_type": "markdown",
   "id": "31a3b0d2-ea43-4f57-ad1d-bebe6ead21a2",
   "metadata": {},
   "source": [
    "Q6. Create an identity matrix of shape (5,5) using numpy functions?\n",
    "[Hint: An identity matrix is a matrix containing 1 diagonally and other elements will be 0.]"
   ]
  },
  {
   "cell_type": "code",
   "execution_count": 6,
   "id": "7d7c8c19-6174-48e0-99fd-d7a837a4a14b",
   "metadata": {},
   "outputs": [
    {
     "data": {
      "text/plain": [
       "array([[1., 0., 0., 0., 0.],\n",
       "       [0., 1., 0., 0., 0.],\n",
       "       [0., 0., 1., 0., 0.],\n",
       "       [0., 0., 0., 1., 0.],\n",
       "       [0., 0., 0., 0., 1.]])"
      ]
     },
     "execution_count": 6,
     "metadata": {},
     "output_type": "execute_result"
    }
   ],
   "source": [
    "import numpy as np\n",
    "np.eye(5)"
   ]
  },
  {
   "cell_type": "code",
   "execution_count": null,
   "id": "12c0e2b2-2cf5-4b3b-8f96-bce53e3baf48",
   "metadata": {},
   "outputs": [],
   "source": []
  },
  {
   "cell_type": "code",
   "execution_count": null,
   "id": "d08eb75b-45a7-4a97-91fd-b8950bf99fe8",
   "metadata": {},
   "outputs": [],
   "source": []
  },
  {
   "cell_type": "code",
   "execution_count": null,
   "id": "9776cb2d-801d-4de4-baed-9130bed70727",
   "metadata": {},
   "outputs": [],
   "source": []
  },
  {
   "cell_type": "code",
   "execution_count": null,
   "id": "586da781-71ab-4bd8-8172-8f4acfc8dac7",
   "metadata": {},
   "outputs": [],
   "source": []
  }
 ],
 "metadata": {
  "kernelspec": {
   "display_name": "Python 3 (ipykernel)",
   "language": "python",
   "name": "python3"
  },
  "language_info": {
   "codemirror_mode": {
    "name": "ipython",
    "version": 3
   },
   "file_extension": ".py",
   "mimetype": "text/x-python",
   "name": "python",
   "nbconvert_exporter": "python",
   "pygments_lexer": "ipython3",
   "version": "3.10.8"
  }
 },
 "nbformat": 4,
 "nbformat_minor": 5
}
