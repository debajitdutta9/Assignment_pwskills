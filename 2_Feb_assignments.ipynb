{
 "cells": [
  {
   "cell_type": "code",
   "execution_count": 1,
   "id": "fc858c05",
   "metadata": {},
   "outputs": [],
   "source": [
    "# Q1.Explain with an example each when to use a for loop and a while loop.\n",
    "# For loop is used when the number of iterations is already known.\n",
    "# While loop is used when the number of iterations is already Unknown.\n"
   ]
  },
  {
   "cell_type": "code",
   "execution_count": 4,
   "id": "44996147",
   "metadata": {},
   "outputs": [
    {
     "name": "stdout",
     "output_type": "stream",
     "text": [
      "Sum of first 10 number : 55\n",
      "Product of first 10 number : 3628800\n"
     ]
    }
   ],
   "source": [
    "# Q2. Write a python program to print the sum and product of the first 10 natural numbers using for\n",
    "# and while loop.\n",
    "\n",
    "sum=0\n",
    "pdt=1\n",
    "for i in range(1,10+1):\n",
    "    sum=sum+i\n",
    "    pdt=pdt*i\n",
    "print(\"Sum of first 10 number :\",sum)\n",
    "print(\"Product of first 10 number :\",pdt)"
   ]
  },
  {
   "cell_type": "code",
   "execution_count": 1,
   "id": "58bbb1d3",
   "metadata": {},
   "outputs": [
    {
     "name": "stdout",
     "output_type": "stream",
     "text": [
      "enter the unit310\n",
      "2250.0\n"
     ]
    }
   ],
   "source": [
    "# Q3. Create a python program to compute the electricity bill for a household.\n",
    "\n",
    "# The per-unit charges in rupees are as follows: For the first 100 units, the user will be charged Rs. 4.5 per\n",
    "# unit, for the next 100 units, the user will be charged Rs. 6 per unit, and for the next 100 units, the user will\n",
    "# be charged Rs. 10 per unit, After 300 units and above the user will be charged Rs. 20 per unit.\n",
    "# You are required to take the units of electricity consumed in a month from the user as input.\n",
    "# Your program must pass this test case: when the unit of electricity consumed by the user in a month is\n",
    "# 310, the total electricity bill should be 2250.\n",
    "\n",
    "units=int(input(\"enter the unit\"))\n",
    "r=0\n",
    "\n",
    "if (units <= 100):\n",
    "    r= units * 4.5;\n",
    "elif (units <= 200):\n",
    "    r=((100 * 4.5) +(units - 100) * 6);\n",
    "elif (units <= 300):\n",
    "    r=((100 * 4.5) +(100 * 6) +(units - 200) * 10)\n",
    "elif (units > 300):\n",
    "    r =((100 * 4.5) +(100 * 6) +(100 * 10) +(units - 300) * 20)\n",
    "print(r)"
   ]
  },
  {
   "cell_type": "code",
   "execution_count": 4,
   "id": "68c51f56",
   "metadata": {},
   "outputs": [
    {
     "name": "stdout",
     "output_type": "stream",
     "text": [
      "[2, 4, 5, 6, 8, 10, 12, 14, 15, 16, 18, 20, 22, 24, 25, 26, 28, 30, 32, 34, 35, 36, 38, 40, 42, 44, 45, 46, 48, 50, 52, 54, 55, 56, 58, 60, 62, 64, 65, 66, 68, 70, 72, 74, 75, 76, 78, 80, 82, 84, 85, 86, 88, 90, 92, 94, 95, 96, 98, 100]\n"
     ]
    }
   ],
   "source": [
    "# Q4. Create a list of numbers from 1 to 100. Use for loop and while loop to calculate the cube of each\n",
    "# number and if the cube of that number is divisible by 4 or 5 then append that number in a list and print\n",
    "# that list.\n",
    "l1=list(range(1,100+1))\n",
    "l2=[]\n",
    "for i in l1:\n",
    "    s=i**3\n",
    "    if s%4==0 or s%5==0:\n",
    "        l2.append(i)\n",
    "print(l2)        "
   ]
  },
  {
   "cell_type": "code",
   "execution_count": 1,
   "id": "9e22e2c1",
   "metadata": {},
   "outputs": [
    {
     "name": "stdout",
     "output_type": "stream",
     "text": [
      "[2, 4, 5, 6, 8, 10, 12, 14, 15, 16, 18, 20, 22, 24, 25, 26, 28, 30, 32, 34, 35, 36, 38, 40, 42, 44, 45, 46, 48, 50, 52, 54, 55, 56, 58, 60, 62, 64, 65, 66, 68, 70, 72, 74, 75, 76, 78, 80, 82, 84, 85, 86, 88, 90, 92, 94, 95, 96, 98, 100]\n"
     ]
    }
   ],
   "source": [
    "#Q4.\n",
    "l1=list(range(1,100+1))\n",
    "l2=[]\n",
    "i=0\n",
    "while i<100:\n",
    "    s=l1[i]**3\n",
    "    if s%4==0 or s%5==0:\n",
    "        l2.append(l1[i])\n",
    "    i=i+1\n",
    "print(l2)"
   ]
  },
  {
   "cell_type": "code",
   "execution_count": 2,
   "id": "7ae23e83",
   "metadata": {},
   "outputs": [
    {
     "name": "stdout",
     "output_type": "stream",
     "text": [
      "Total vowels are :11\n"
     ]
    }
   ],
   "source": [
    "# Q5. Write a program to filter count vowels in the below-given string.\n",
    "# string = \"I want to become a data scientist\"\n",
    "\n",
    "\n",
    "String = \"I want to become a data scientist\"\n",
    "count = 0\n",
    "for i in String:\n",
    "    if i == 'a' or i == 'e' or i == 'i' or i == 'o' or i == 'u':\n",
    "        count+=1\n",
    "if count == 0:\n",
    "    print('No vowels found')\n",
    "else:\n",
    "    print('Total vowels are :' + str(count))"
   ]
  },
  {
   "cell_type": "code",
   "execution_count": null,
   "id": "2960f2b4",
   "metadata": {},
   "outputs": [],
   "source": []
  }
 ],
 "metadata": {
  "kernelspec": {
   "display_name": "Python 3 (ipykernel)",
   "language": "python",
   "name": "python3"
  },
  "language_info": {
   "codemirror_mode": {
    "name": "ipython",
    "version": 3
   },
   "file_extension": ".py",
   "mimetype": "text/x-python",
   "name": "python",
   "nbconvert_exporter": "python",
   "pygments_lexer": "ipython3",
   "version": "3.9.12"
  }
 },
 "nbformat": 4,
 "nbformat_minor": 5
}
