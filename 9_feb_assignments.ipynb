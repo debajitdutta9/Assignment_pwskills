{
 "cells": [
  {
   "cell_type": "markdown",
   "id": "69464d31",
   "metadata": {},
   "source": [
    "Q1, Create a vehicle class with an init method having instance variables as name_of_vehicle, max_speed\n",
    "and average_of_vehicle."
   ]
  },
  {
   "cell_type": "code",
   "execution_count": 1,
   "id": "5e707684",
   "metadata": {},
   "outputs": [],
   "source": [
    "class vehicle:\n",
    "    def __init__(self,name_of_vehicle, max_speed,average_of_vehicle):\n",
    "        self.name_of_vehicle=name_of_vehicle\n",
    "        self.max_speed=max_speed\n",
    "        self.average_of_vehicle=average_of_vehicle"
   ]
  },
  {
   "cell_type": "markdown",
   "id": "dbd2b06e",
   "metadata": {},
   "source": [
    "Q2. Create a child class car from the vehicle class created in Que 1, which will inherit the vehicle class.\n",
    "Create a method named seating_capacity which takes capacity as an argument and returns the name of\n",
    "the vehicle and its seating capacity."
   ]
  },
  {
   "cell_type": "code",
   "execution_count": 6,
   "id": "4bdd6764",
   "metadata": {},
   "outputs": [],
   "source": [
    "class car(vehicle):\n",
    "    def seating_capacity(self,capacity):\n",
    "        \n",
    "        return self.name_of_vehicle,capacity"
   ]
  },
  {
   "cell_type": "code",
   "execution_count": 7,
   "id": "54bc9d99",
   "metadata": {},
   "outputs": [],
   "source": [
    "car1=car(\"nexon\",78,20)"
   ]
  },
  {
   "cell_type": "code",
   "execution_count": 8,
   "id": "afb81587",
   "metadata": {},
   "outputs": [
    {
     "data": {
      "text/plain": [
       "('nexon', 4)"
      ]
     },
     "execution_count": 8,
     "metadata": {},
     "output_type": "execute_result"
    }
   ],
   "source": [
    "car1.seating_capacity(4)"
   ]
  },
  {
   "cell_type": "markdown",
   "id": "64d34737",
   "metadata": {},
   "source": [
    "Q3. What is multiple inheritance? Write a python code to demonstrate multiple inheritance."
   ]
  },
  {
   "cell_type": "markdown",
   "id": "137e991c",
   "metadata": {},
   "source": [
    "Inheritance is the mechanism to achieve the re-usability of code as one class(child class) can derive the properties of another class(parent class). \n",
    "It also provides transitivity ie. if class C inherits from P then all the sub-classes of C would also inherit from P.\n",
    " \n",
    "\n",
    "Multiple Inheritance \n",
    "When a class is derived from more than one base class it is called multiple Inheritance. \n",
    "The derived class inherits all the features of the base case.\n",
    "like a class a which can derived from b and c"
   ]
  },
  {
   "cell_type": "code",
   "execution_count": 11,
   "id": "c10bd189",
   "metadata": {},
   "outputs": [
    {
     "name": "stdout",
     "output_type": "stream",
     "text": [
      "In Class1\n"
     ]
    }
   ],
   "source": [
    "class Class1:\n",
    "    def m1(self):\n",
    "        print(\"In Class1\")\n",
    "       \n",
    "class Class2:\n",
    "    def m2(self):\n",
    "        print(\"In Class2\")\n",
    " \n",
    "class Class3:\n",
    "    def m3(self):\n",
    "        print(\"In Class3\") \n",
    "        \n",
    "class Class4(Class1,Class2, Class3):\n",
    "    pass  \n",
    "     \n",
    "obj = Class4()\n",
    "obj.m1()"
   ]
  },
  {
   "cell_type": "markdown",
   "id": "bf88d868",
   "metadata": {},
   "source": [
    "Q4. What are getter and setter in python? Create a class and create a getter and a setter method in this\n",
    "class."
   ]
  },
  {
   "cell_type": "markdown",
   "id": "871028af",
   "metadata": {},
   "source": [
    "Getter and setter are specials type of function which is use to set and get values of instance member.\n",
    "getter is use to get instance attribute value\n",
    "setter is use to set the instance variable value"
   ]
  },
  {
   "cell_type": "code",
   "execution_count": 13,
   "id": "3e58780d",
   "metadata": {},
   "outputs": [],
   "source": [
    "class demo_class:\n",
    "    def __init__(self):\n",
    "        self.__a=0\n",
    "    def set_a(self,a):\n",
    "        self.__a=a\n",
    "    def get_a(self):\n",
    "        return self.__a"
   ]
  },
  {
   "cell_type": "code",
   "execution_count": 16,
   "id": "96ac7b7b",
   "metadata": {},
   "outputs": [
    {
     "name": "stdout",
     "output_type": "stream",
     "text": [
      "value of a1's a : 100\n"
     ]
    }
   ],
   "source": [
    "a1=demo_class()\n",
    "a1.set_a(100)\n",
    "print(\"value of a1's a :\",a1.get_a())"
   ]
  },
  {
   "cell_type": "markdown",
   "id": "7790d414",
   "metadata": {},
   "source": [
    "Q5.What is method overriding in python? Write a python code to demonstrate method overriding."
   ]
  },
  {
   "cell_type": "markdown",
   "id": "3aed6956",
   "metadata": {},
   "source": [
    "sometimes we want to redefine the property/methode of super class  in  sub class for this we required the permission which is known as inheritance\n",
    "after inheritance we change the property of any super class methode in subclass and its known as methode overriding.\n",
    "it is a part of polymorphism"
   ]
  },
  {
   "cell_type": "code",
   "execution_count": 28,
   "id": "c08fc578",
   "metadata": {},
   "outputs": [],
   "source": [
    "class test1:\n",
    "    def method1(self):\n",
    "        print(\"methode 1 from method 1\")\n",
    "    def method2(self):\n",
    "        print(\"methode 2 from method 1\")\n",
    "class test2(test1):\n",
    "    def method2(self):\n",
    "        print(\"methode 2 from method 2\")\n",
    "    def method3(self):\n",
    "        print(\"methode 3from method 2\")"
   ]
  },
  {
   "cell_type": "code",
   "execution_count": 29,
   "id": "bc673ef2",
   "metadata": {},
   "outputs": [],
   "source": [
    "t1=test1()\n",
    "t2=test2()"
   ]
  },
  {
   "cell_type": "code",
   "execution_count": 30,
   "id": "8b43fefb",
   "metadata": {},
   "outputs": [
    {
     "name": "stdout",
     "output_type": "stream",
     "text": [
      "methode 1 from method 1\n",
      "methode 2 from method 1\n"
     ]
    }
   ],
   "source": [
    "t1.method1()\n",
    "t1.method2()"
   ]
  },
  {
   "cell_type": "code",
   "execution_count": 31,
   "id": "48763ac4",
   "metadata": {},
   "outputs": [
    {
     "name": "stdout",
     "output_type": "stream",
     "text": [
      "methode 1 from method 1\n",
      "methode 2 from method 2\n",
      "methode 3from method 2\n"
     ]
    }
   ],
   "source": [
    "t2.method1()\n",
    "t2.method2()\n",
    "t2.method3()"
   ]
  },
  {
   "cell_type": "code",
   "execution_count": null,
   "id": "66e6d4cf",
   "metadata": {},
   "outputs": [],
   "source": []
  }
 ],
 "metadata": {
  "kernelspec": {
   "display_name": "Python 3 (ipykernel)",
   "language": "python",
   "name": "python3"
  },
  "language_info": {
   "codemirror_mode": {
    "name": "ipython",
    "version": 3
   },
   "file_extension": ".py",
   "mimetype": "text/x-python",
   "name": "python",
   "nbconvert_exporter": "python",
   "pygments_lexer": "ipython3",
   "version": "3.9.12"
  }
 },
 "nbformat": 4,
 "nbformat_minor": 5
}
