{
 "cells": [
  {
   "cell_type": "code",
   "execution_count": 2,
   "id": "d9658eb8",
   "metadata": {},
   "outputs": [
    {
     "name": "stdout",
     "output_type": "stream",
     "text": [
      "Enter your percentage :80\n",
      "B\n"
     ]
    }
   ],
   "source": [
    "#Question 1\n",
    "percentage=int(input(\"Enter your percentage :\"))\n",
    "if percentage>90:\n",
    "    print(\"A\")\n",
    "elif percentage>80 and percentage<=90:\n",
    "    print(\"B\")\n",
    "elif percentage>60 and percentage<=80:\n",
    "    print(\"C\")\n",
    "else:\n",
    "    print(\"D\")\n",
    "    "
   ]
  },
  {
   "cell_type": "code",
   "execution_count": 7,
   "id": "aa577fe0",
   "metadata": {},
   "outputs": [
    {
     "name": "stdout",
     "output_type": "stream",
     "text": [
      "Enter bike's price :1500\n",
      "75.0\n"
     ]
    }
   ],
   "source": [
    "#Question 2\n",
    "price=int(input(\"Enter bike's price :\"))\n",
    "if price>100000:\n",
    "    print(price*(15/100))\n",
    "elif price>50000 and price<=100000:\n",
    "    print(price*(10/100))\n",
    "else:\n",
    "    print(price*(5/100))"
   ]
  },
  {
   "cell_type": "code",
   "execution_count": 6,
   "id": "79ce936c",
   "metadata": {},
   "outputs": [
    {
     "data": {
      "text/plain": [
       "15.0"
      ]
     },
     "execution_count": 6,
     "metadata": {},
     "output_type": "execute_result"
    }
   ],
   "source": []
  },
  {
   "cell_type": "code",
   "execution_count": 8,
   "id": "f8bba1cb",
   "metadata": {},
   "outputs": [
    {
     "name": "stdout",
     "output_type": "stream",
     "text": [
      "Enter City :agra\n",
      "Taj Mahal\n"
     ]
    }
   ],
   "source": [
    "#Question 3\n",
    "city=input(\"Enter City :\")\n",
    "if city.lower()=='delhi':\n",
    "    print(\"Red Fort\")\n",
    "elif city.lower()=='agra':\n",
    "    print(\"Taj Mahal\")\n",
    "elif city.lower()=='jaipur':\n",
    "    print(\"Jal Mahal\")"
   ]
  },
  {
   "cell_type": "code",
   "execution_count": 11,
   "id": "68213a57",
   "metadata": {},
   "outputs": [
    {
     "name": "stdout",
     "output_type": "stream",
     "text": [
      "Enter the number :69\n",
      "2\n"
     ]
    }
   ],
   "source": [
    "#Question 4\n",
    "num=int(input(\"Enter the number :\"))\n",
    "count=0\n",
    "while(num>=10):\n",
    "    count=count+1\n",
    "    num=num//3\n",
    "print(count)    "
   ]
  },
  {
   "cell_type": "code",
   "execution_count": null,
   "id": "62c9d0f2",
   "metadata": {},
   "outputs": [],
   "source": [
    "#Question 5\n",
    "\"When and why we use while in python ?\"\n",
    "\"we use while loop for those cases where we  dont in keyword .we can say that for non iterable objects cases we use while\"\n",
    "\"while loop will excute until its conditional statements is not false \"\n",
    "\"\"\"\n",
    "initialization\n",
    "while (condition statement):\n",
    "    statement\n",
    "    iteration\n",
    "for a definite while loop 3 statement is must needed initialization,condition and iteration(incerement or decrement)\n",
    "\n",
    "\n",
    "\"\"\""
   ]
  },
  {
   "cell_type": "code",
   "execution_count": 14,
   "id": "18d1dcc7",
   "metadata": {
    "scrolled": true
   },
   "outputs": [
    {
     "name": "stdout",
     "output_type": "stream",
     "text": [
      "11111\n",
      "22222\n",
      "33333\n",
      "44444\n",
      "55555\n"
     ]
    }
   ],
   "source": [
    "#Question 6\n",
    "n=int(input(\"No of rows :\"))\n",
    "i=1\n",
    "while(i<=n):\n",
    "    j=1\n",
    "    while(j<=n):\n",
    "        print(i,end=\"\")\n",
    "        j=j+1\n",
    "    print()\n",
    "    i=i+1"
   ]
  },
  {
   "cell_type": "code",
   "execution_count": 15,
   "id": "a689930b",
   "metadata": {},
   "outputs": [
    {
     "name": "stdout",
     "output_type": "stream",
     "text": [
      "No of rows :5\n",
      "1\n",
      "22\n",
      "333\n",
      "4444\n",
      "55555\n"
     ]
    }
   ],
   "source": [
    "n=int(input(\"No of rows :\"))\n",
    "i=1\n",
    "while(i<=n):\n",
    "    j=1\n",
    "    while(j<=i):\n",
    "        print(i,end=\"\")\n",
    "        j=j+1\n",
    "    print()\n",
    "    i=i+1"
   ]
  },
  {
   "cell_type": "code",
   "execution_count": 16,
   "id": "4a6041e4",
   "metadata": {},
   "outputs": [
    {
     "name": "stdout",
     "output_type": "stream",
     "text": [
      "No of rows :10\n",
      "*\n",
      "**\n",
      "***\n",
      "****\n",
      "*****\n",
      "******\n",
      "*******\n",
      "********\n",
      "*********\n",
      "**********\n"
     ]
    }
   ],
   "source": [
    "n=int(input(\"No of rows :\"))\n",
    "i=1\n",
    "while(i<=n):\n",
    "    j=1\n",
    "    while(j<=i):\n",
    "        print(\"*\",end=\"\")\n",
    "        j=j+1\n",
    "    print()\n",
    "    i=i+1"
   ]
  },
  {
   "cell_type": "code",
   "execution_count": 17,
   "id": "95b62eee",
   "metadata": {},
   "outputs": [
    {
     "name": "stdout",
     "output_type": "stream",
     "text": [
      "10\n",
      "9\n",
      "8\n",
      "7\n",
      "6\n",
      "5\n",
      "4\n",
      "3\n",
      "2\n",
      "1\n"
     ]
    }
   ],
   "source": [
    "#Question 7\n",
    "i=10\n",
    "while i>=1:\n",
    "    print(i)\n",
    "    i=i-1"
   ]
  },
  {
   "cell_type": "code",
   "execution_count": null,
   "id": "ac2d2dd2",
   "metadata": {},
   "outputs": [],
   "source": [
    "#Question 8\n",
    "i=10\n",
    "while i>=1:\n",
    "    print(i)\n",
    "    i=i-1"
   ]
  }
 ],
 "metadata": {
  "kernelspec": {
   "display_name": "Python 3 (ipykernel)",
   "language": "python",
   "name": "python3"
  },
  "language_info": {
   "codemirror_mode": {
    "name": "ipython",
    "version": 3
   },
   "file_extension": ".py",
   "mimetype": "text/x-python",
   "name": "python",
   "nbconvert_exporter": "python",
   "pygments_lexer": "ipython3",
   "version": "3.9.12"
  }
 },
 "nbformat": 4,
 "nbformat_minor": 5
}
