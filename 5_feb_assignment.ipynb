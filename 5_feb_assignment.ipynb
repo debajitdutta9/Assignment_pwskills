{
 "cells": [
  {
   "cell_type": "code",
   "execution_count": null,
   "id": "d57f63b4",
   "metadata": {},
   "outputs": [],
   "source": [
    "# Q1. Explain Class and Object with respect to Object-Oriented Programming. Give a suitable example.\n",
    "\n",
    "# Python is an object oriented programming language.\n",
    "# Almost everything in Python is an object, with its properties and methods.\n",
    "# A Class is like an object constructor, or a \"blueprint\" for creating objects.\n",
    "# Object − Objects have states and behaviors. \n",
    "# Example: A dog has states - color, name, breed as well as behaviors – wagging the tail, barking, eating. \n",
    "# An object is an instance of a class.\n",
    "\n",
    "# Class − A class can be defined as a template/blueprint that describes the behavior/state that the object of its type support.\n",
    "\n"
   ]
  },
  {
   "cell_type": "code",
   "execution_count": 7,
   "id": "7e371196",
   "metadata": {},
   "outputs": [],
   "source": [
    "# Q2. Name the four pillars of OOPs.\n",
    "\n",
    "\n",
    "# The four pillars for OOP are:\n",
    "# Abstraction.\n",
    "# Encapsulation.\n",
    "# Inheritance.\n",
    "# Polymorphism."
   ]
  },
  {
   "cell_type": "code",
   "execution_count": 8,
   "id": "f16157ac",
   "metadata": {},
   "outputs": [
    {
     "name": "stdout",
     "output_type": "stream",
     "text": [
      "John\n",
      "36\n"
     ]
    }
   ],
   "source": [
    "# Q3. Explain why the __init__() function is used. Give a suitable example.\n",
    "\n",
    "# All classes have a function called __init__(), which is always executed when the class is being initiated.\n",
    "# Use the __init__() function to assign values to object properties, or other operations that are necessary to do when the object is being created:\n",
    "class Person:\n",
    "  def __init__(self, name, age):\n",
    "    self.name = name\n",
    "    self.age = age\n",
    "\n",
    "p1 = Person(\"John\", 36)\n",
    "\n",
    "print(p1.name)\n",
    "print(p1.age)    "
   ]
  },
  {
   "cell_type": "code",
   "execution_count": 9,
   "id": "8cf543fd",
   "metadata": {},
   "outputs": [],
   "source": [
    "# Q4. Why self is used in OOPs?\n",
    "\n",
    "# self represents the instance of the class. \n",
    "# By using the “self”  we can access the attributes and methods of the class in python. \n",
    "# It binds the attributes with the given arguments.\n",
    "# The reason you need to use self. is because Python does not use the @ syntax to refer to instance attributes.\n",
    "# Python decided to do methods in a way that makes the instance to which the method belongs be passed automatically, \n",
    "# but not received automatically: the first parameter of methods is the instance the method is called on."
   ]
  },
  {
   "cell_type": "code",
   "execution_count": 10,
   "id": "128a196f",
   "metadata": {},
   "outputs": [],
   "source": [
    "# Q5. What is inheritance? Give an example for each type of inheritance.\n",
    "\n",
    "\n",
    "# One of the core concepts in object-oriented programming (OOP) languages is inheritance. \n",
    "# It is a mechanism that allows you to create a hierarchy of classes that share a set of properties and methods by deriving a class from another class. \n",
    "# Inheritance is the capability of one class to derive or inherit the properties from another class. \n",
    "# Types of inheritance: There are five types of inheritance in python programming:\n",
    "# 1). Single inheritance\n",
    "# 2). Multiple inheritances\n",
    "# 3). Multilevel inheritance\n",
    "# 4). Hierarchical inheritance\n",
    "# 5). Hybrid inheritance"
   ]
  },
  {
   "cell_type": "code",
   "execution_count": null,
   "id": "4f56cb34",
   "metadata": {},
   "outputs": [],
   "source": []
  }
 ],
 "metadata": {
  "kernelspec": {
   "display_name": "Python 3 (ipykernel)",
   "language": "python",
   "name": "python3"
  },
  "language_info": {
   "codemirror_mode": {
    "name": "ipython",
    "version": 3
   },
   "file_extension": ".py",
   "mimetype": "text/x-python",
   "name": "python",
   "nbconvert_exporter": "python",
   "pygments_lexer": "ipython3",
   "version": "3.9.12"
  }
 },
 "nbformat": 4,
 "nbformat_minor": 5
}
