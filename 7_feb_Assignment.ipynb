{
 "cells": [
  {
   "cell_type": "code",
   "execution_count": null,
   "id": "260e0d96",
   "metadata": {},
   "outputs": [],
   "source": [
    "# Q1. You are writing code for a company. The requirement of the company is that you create a python\n",
    "# function that will check whether the password entered by the user is correct or not. The function should\n",
    "# take the password as input and return the string “Valid Password” if the entered password follows the\n",
    "# below-given password guidelines else it should return “Invalid Password”.\n",
    "# Note: 1. The Password should contain at least two uppercase letters and at least two lowercase letters.\n",
    "# 2. The Password should contain at least a number and three special characters.\n",
    "# 3. The length of the password should be 10 characters long."
   ]
  },
  {
   "cell_type": "code",
   "execution_count": 2,
   "id": "e5fcba2d",
   "metadata": {},
   "outputs": [],
   "source": [
    "def checkPass(s):\n",
    "    l,u,d=0,0,0\n",
    "    if (len(s) >= 10):\n",
    "        for i in s:\n",
    "            if (i.islower()):\n",
    "                 l+=1           \n",
    "            elif (i.isupper()):\n",
    "                 u+=1           \n",
    "            else:\n",
    "                d+=1 \n",
    "    if((l>=2 and u>=2 )and l+u+d==len(s)):\n",
    "        return True\n",
    "    return False\n"
   ]
  },
  {
   "cell_type": "code",
   "execution_count": 3,
   "id": "cd835267",
   "metadata": {},
   "outputs": [
    {
     "name": "stdout",
     "output_type": "stream",
     "text": [
      "Enter Your Password :AbcdeFG123654\n",
      "Valid Password\n"
     ]
    }
   ],
   "source": [
    "pw=input(\"Enter Your Password :\")\n",
    "if(checkPass(pw)):\n",
    "    print(\"Valid Password\")\n",
    "else:\n",
    "    print(\"Invalid Password\")"
   ]
  },
  {
   "cell_type": "code",
   "execution_count": 15,
   "id": "a8f67792",
   "metadata": {},
   "outputs": [
    {
     "data": {
      "text/plain": [
       "<function str.isnumeric()>"
      ]
     },
     "execution_count": 15,
     "metadata": {},
     "output_type": "execute_result"
    }
   ],
   "source": [
    "# Q2. Solve the below-given questions using at least one of the following:\n",
    "# 1. Lambda functioJ\n",
    "# 2. Filter functioJ\n",
    "# 3. Zap functioJ\n",
    "# 4. List ComprehensioI\n",
    "# B Check if the string starts with a particular letterY\n",
    "# B Check if the string is numericY\n",
    "# B Sort a list of tuples having fruit names and their quantity. [(\"mango\",99),(\"orange\",80), (\"grapes\", 1000)-\n",
    "# B Find the squares of numbers from 1 to 10Y\n",
    "# B Find the cube root of numbers from 1 to 10Y\n",
    "# B Check if a given number is evenY\n",
    "# B Filter odd numbers from the given list.\n",
    "# [1,2,3,4,5,6,7,8,9,10-\n",
    "# B Sort a list of integers into positive and negative integers lists.\n",
    "# [1,2,3,4,5,6,-1,-2,-3,-4,-5,0]\n",
    "\"agg\".isnumeric"
   ]
  },
  {
   "cell_type": "code",
   "execution_count": 10,
   "id": "b2d5cb65",
   "metadata": {},
   "outputs": [],
   "source": [
    "check1=(lambda s,p:True if s.startswith(p) else False)\n"
   ]
  },
  {
   "cell_type": "code",
   "execution_count": 11,
   "id": "66e8adea",
   "metadata": {},
   "outputs": [
    {
     "data": {
      "text/plain": [
       "True"
      ]
     },
     "execution_count": 11,
     "metadata": {},
     "output_type": "execute_result"
    }
   ],
   "source": [
    "check1(\"pwskills\",'p')"
   ]
  },
  {
   "cell_type": "code",
   "execution_count": 12,
   "id": "11436854",
   "metadata": {},
   "outputs": [
    {
     "data": {
      "text/plain": [
       "False"
      ]
     },
     "execution_count": 12,
     "metadata": {},
     "output_type": "execute_result"
    }
   ],
   "source": [
    "check1(\"pwskills\",'s')"
   ]
  },
  {
   "cell_type": "code",
   "execution_count": 16,
   "id": "e0d50fd9",
   "metadata": {},
   "outputs": [],
   "source": [
    "check2=(lambda s:True if s.isnumeric() else False)"
   ]
  },
  {
   "cell_type": "code",
   "execution_count": 17,
   "id": "f65be8eb",
   "metadata": {},
   "outputs": [
    {
     "data": {
      "text/plain": [
       "True"
      ]
     },
     "execution_count": 17,
     "metadata": {},
     "output_type": "execute_result"
    }
   ],
   "source": [
    "check2(\"456\")"
   ]
  },
  {
   "cell_type": "code",
   "execution_count": 29,
   "id": "6c4def6d",
   "metadata": {},
   "outputs": [],
   "source": [
    "l1=[(\"mango\",99),(\"orange\",80), (\"grapes\", 1000)]\n",
    "l1.sort(key=lambda i:i[1])"
   ]
  },
  {
   "cell_type": "code",
   "execution_count": 19,
   "id": "f84ad499",
   "metadata": {},
   "outputs": [
    {
     "data": {
      "text/plain": [
       "[1, 4, 9, 16, 25, 36, 49, 64, 81, 100]"
      ]
     },
     "execution_count": 19,
     "metadata": {},
     "output_type": "execute_result"
    }
   ],
   "source": [
    "[i**2 for i in range(1,10+1)]"
   ]
  },
  {
   "cell_type": "code",
   "execution_count": 20,
   "id": "1fbce6b7",
   "metadata": {
    "scrolled": true
   },
   "outputs": [
    {
     "data": {
      "text/plain": [
       "[1, 8, 27, 64, 125, 216, 343, 512, 729, 1000]"
      ]
     },
     "execution_count": 20,
     "metadata": {},
     "output_type": "execute_result"
    }
   ],
   "source": [
    "[i**3 for i in range(1,10+1)]"
   ]
  },
  {
   "cell_type": "code",
   "execution_count": 21,
   "id": "0419ba85",
   "metadata": {},
   "outputs": [],
   "source": [
    "check3=lambda c:False if c&1!=0 else True"
   ]
  },
  {
   "cell_type": "code",
   "execution_count": 23,
   "id": "a4b34020",
   "metadata": {},
   "outputs": [
    {
     "data": {
      "text/plain": [
       "True"
      ]
     },
     "execution_count": 23,
     "metadata": {},
     "output_type": "execute_result"
    }
   ],
   "source": [
    "check3(6)"
   ]
  },
  {
   "cell_type": "code",
   "execution_count": 24,
   "id": "7a1ecbe4",
   "metadata": {},
   "outputs": [
    {
     "data": {
      "text/plain": [
       "False"
      ]
     },
     "execution_count": 24,
     "metadata": {},
     "output_type": "execute_result"
    }
   ],
   "source": [
    "check3(9)"
   ]
  },
  {
   "cell_type": "code",
   "execution_count": 25,
   "id": "045af27d",
   "metadata": {},
   "outputs": [
    {
     "data": {
      "text/plain": [
       "[1, 3, 5, 7, 9]"
      ]
     },
     "execution_count": 25,
     "metadata": {},
     "output_type": "execute_result"
    }
   ],
   "source": [
    "l1=[1,2,3,4,5,6,7,8,9,10]\n",
    "list(filter(lambda a:a%2!=0,l1))"
   ]
  },
  {
   "cell_type": "code",
   "execution_count": 26,
   "id": "fd37abf8",
   "metadata": {},
   "outputs": [],
   "source": [
    "sort_list=(lambda a:a.sort())"
   ]
  },
  {
   "cell_type": "code",
   "execution_count": 27,
   "id": "43b7377d",
   "metadata": {},
   "outputs": [],
   "source": [
    "l2=[1,2,3,4,5,6,-1,-2,-3,-4,-5,0]\n",
    "sort_list(l2)"
   ]
  },
  {
   "cell_type": "code",
   "execution_count": 28,
   "id": "932b344f",
   "metadata": {},
   "outputs": [
    {
     "data": {
      "text/plain": [
       "[-5, -4, -3, -2, -1, 0, 1, 2, 3, 4, 5, 6]"
      ]
     },
     "execution_count": 28,
     "metadata": {},
     "output_type": "execute_result"
    }
   ],
   "source": [
    "l2"
   ]
  },
  {
   "cell_type": "code",
   "execution_count": null,
   "id": "cd646cbb",
   "metadata": {},
   "outputs": [],
   "source": []
  }
 ],
 "metadata": {
  "kernelspec": {
   "display_name": "Python 3 (ipykernel)",
   "language": "python",
   "name": "python3"
  },
  "language_info": {
   "codemirror_mode": {
    "name": "ipython",
    "version": 3
   },
   "file_extension": ".py",
   "mimetype": "text/x-python",
   "name": "python",
   "nbconvert_exporter": "python",
   "pygments_lexer": "ipython3",
   "version": "3.9.12"
  }
 },
 "nbformat": 4,
 "nbformat_minor": 5
}
