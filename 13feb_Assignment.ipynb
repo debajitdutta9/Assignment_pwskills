{
 "cells": [
  {
   "cell_type": "markdown",
   "id": "d5bdf8ca-d466-4fca-8809-48e313109ed7",
   "metadata": {},
   "source": [
    "Q1. Explain why we have to use the Exception class while creating a Custom Exception.       \n",
    "Note: Here Exception class refers to the base class for all the exceptions.\n",
    "\n",
    "Ans.The Exception class is used as the base class for custom exceptions because it is the base class for all built-in exceptions in Python. By inheriting from the Exception class, custom exceptions become part of the standard exception hierarchy in Python and can be caught and handled using the same mechanism as built-in exceptions. This allows custom exceptions to be integrated seamlessly into existing exception handling mechanisms in a Python program.\n",
    "\n",
    "Inheriting from the Exception class also allows custom exceptions to be easily subclassed to create more specific exceptions. For example, you can create a custom exception class for a specific type of error in your application and then create subclasses for specific error cases. This makes it easy to create a hierarchical structure of exceptions that can be used to handle different types of errors in a structured and meaningful way."
   ]
  },
  {
   "cell_type": "markdown",
   "id": "6c28e56e-2f20-49e0-b8b2-ec4523c04635",
   "metadata": {},
   "source": [
    "Q2. Write a python program to print Python Exception Hierarchy."
   ]
  },
  {
   "cell_type": "code",
   "execution_count": 1,
   "id": "defe202f-8128-45e3-87c5-3ace238f530f",
   "metadata": {},
   "outputs": [
    {
     "name": "stdout",
     "output_type": "stream",
     "text": [
      "Exception\n",
      "\tBaseException\n",
      "\t\tobject\n"
     ]
    }
   ],
   "source": [
    "# Ans2.\n",
    "\n",
    "def print_exception_hierarchy(exceptions, level=0):\n",
    "    # Print the class name for each exception\n",
    "    for exception in exceptions:\n",
    "        print('\\t' * level + exception.__name__)\n",
    "        # Recursively print the exception hierarchy for each parent class\n",
    "        parents = exception.__bases__\n",
    "        if parents:\n",
    "            print_exception_hierarchy(parents, level + 1)\n",
    "\n",
    "# Call the print_exception_hierarchy function with the base Exception class\n",
    "print_exception_hierarchy([Exception])\n"
   ]
  },
  {
   "cell_type": "markdown",
   "id": "8adb705c-369c-439b-8fc1-29bd8411c685",
   "metadata": {},
   "source": [
    "Q3. What errors are defined in the ArithmeticError class? Explain any two with an example.\n",
    "\n",
    "Ans.\n",
    "\n",
    "\n",
    "        The ArithmeticError class in Python is a base class for all errors that occur during arithmetic calculations.\n",
    "         \n",
    "Some of the errors that are defined in the ArithmeticError class are:\n",
    "\n",
    "1.ZeroDivisionError: This error occurs when you try to divide a number by zero.\n",
    "Forexample, x = 10/0 will result in ZeroDivisionError.\n",
    "\n",
    "2.OverflowError: This error occurs when the result of an arithmetic calculation is too large to be represented. \n",
    "For example, x = 999999999999999999999999999999999999999999999999999999999999999999999999999999999 + 1 will result in OverflowError.\n",
    "\n",
    "\n"
   ]
  },
  {
   "cell_type": "code",
   "execution_count": 8,
   "id": "3970bb6e-d5f5-4f5b-8bea-d6c4aa7ab063",
   "metadata": {},
   "outputs": [
    {
     "name": "stdout",
     "output_type": "stream",
     "text": [
      "Error: division by zero\n"
     ]
    }
   ],
   "source": [
    "# ZeroDivisionError example\n",
    "try:\n",
    "    x = 10/0\n",
    "except ZeroDivisionError:\n",
    "    print(\"Error: division by zero\")\n",
    "\n",
    "# OverflowError example\n",
    "try:\n",
    "    x = 9999999999999999999999999999999999999999999999999999999999999999999999999999999999999999999999999 + 1\n",
    "except OverflowError:\n",
    "    print(\"Error: result too large\")\n"
   ]
  },
  {
   "cell_type": "markdown",
   "id": "3a7c92f9-2a3e-4aff-a574-b3afdb4b2bdd",
   "metadata": {},
   "source": [
    "Q4. Why LookupError class is used? Explain with an example KeyError and IndexError.\n",
    "\n",
    "Ans. The LookupError class is a base class for indexing and key lookup errors. It is used to handle errors that occur while trying to access an item from an iterable such as a list, dictionary or a tuple."
   ]
  },
  {
   "cell_type": "code",
   "execution_count": 11,
   "id": "9aef2a3a-b8ca-49b7-9756-37b6a321a44c",
   "metadata": {},
   "outputs": [
    {
     "data": {
      "text/plain": [
       "'\\nKeyError is a subclass of LookupError that occurs when we try to access a non-existing key in a dictionary.\\nFor example:\\n'"
      ]
     },
     "execution_count": 12,
     "metadata": {},
     "output_type": "execute_result"
    }
   ],
   "source": [
    "'''\n",
    "KeyError is a subclass of LookupError that occurs when we try to access a non-existing key in a dictionary.\n",
    "For example:\n",
    "'''\n",
    "my_dict = {'a': 1, 'b': 2, 'c': 3}\n",
    "print(my_dict['d'])  # KeyError: 'd'\n"
   ]
  },
  {
   "cell_type": "code",
   "execution_count": 13,
   "id": "c20c9631-3945-49ed-b985-9b65baeb5397",
   "metadata": {},
   "outputs": [
    {
     "data": {
      "text/plain": [
       "'\\nIndexError is also a subclass of LookupError that occurs when we try to access an\\nindex that is out of range in a list or a tuple. For example:\\n'"
      ]
     },
     "execution_count": 14,
     "metadata": {},
     "output_type": "execute_result"
    }
   ],
   "source": [
    "'''\n",
    "IndexError is also a subclass of LookupError that occurs when we try to access an\n",
    "index that is out of range in a list or a tuple. For example:\n",
    "'''\n",
    "my_list = [1, 2, 3]\n",
    "print(my_list[3])  # IndexError: list index out of range\n"
   ]
  },
  {
   "cell_type": "markdown",
   "id": "550c79ce-5f9e-4fd5-a941-836243dc396b",
   "metadata": {},
   "source": [
    "Q5. Explain ImportError. What is ModuleNotFoundError?\n",
    "\n",
    "Ans.ImportError is an exception that is raised when an imported module is not found or when a specific name cannot be found in the imported module.\n",
    "\n",
    "In Python 3.6 and later, a new ModuleNotFoundError exception is introduced that is a subclass of ImportError. It is raised when a specified module is not found.\n",
    "\n",
    "For example, suppose we have a module named my_module that we want to import in our code. If the module is not found, we will get an ImportError. Similarly, if we try to import a name that does not exist in the module, we will again get an ImportError."
   ]
  },
  {
   "cell_type": "code",
   "execution_count": 16,
   "id": "c16b25c2-ab6d-4107-b421-dc52b947494a",
   "metadata": {},
   "outputs": [
    {
     "name": "stdout",
     "output_type": "stream",
     "text": [
      "Module not found\n",
      "Name not found in module\n",
      "Module not found\n"
     ]
    }
   ],
   "source": [
    "# Example of ImportError\n",
    "\n",
    "try:\n",
    "    import my_module  # Try to import a non-existent module\n",
    "except ImportError:\n",
    "    print(\"Module not found\")\n",
    "    \n",
    "try:\n",
    "    from math import non_existent_func  # Try to import a non-existent function\n",
    "except ImportError:\n",
    "    print(\"Name not found in module\")\n",
    "    \n",
    "# Example of ModuleNotFoundError\n",
    "\n",
    "try:\n",
    "    import non_existent_module  # Try to import a non-existent module\n",
    "except ModuleNotFoundError:\n",
    "    print(\"Module not found\")\n"
   ]
  },
  {
   "cell_type": "markdown",
   "id": "0be17be8-c4a6-43ef-9993-d3ff75cf9716",
   "metadata": {},
   "source": [
    "Q6. List down some best practices for exception handling in python.\n",
    "\n",
    "Ans.Here are some best practices for exception handling in Python:\n",
    "\n",
    "1.Use specific exception types: Catching specific exceptions makes code more readable, and helps in fixing the error quickly.\n",
    "\n",
    "2.Avoid catching general exceptions: Avoid catching general exceptions like 'Exception', 'BaseException', etc. as they catch everything, including the ones you don't want to catch.\n",
    "\n",
    "3.Use try-except-else-finally block: Use the try-except-else-finally block for more robust exception handling. The try-except block handles the exception, the else block handles the normal flow, and the finally block releases any acquired resources.\n",
    "\n",
    "4.Handle exceptions as close to the source as possible: This makes it easier to debug and understand what's going on.\n",
    "\n",
    "5.Use logging: Use the logging module to log the exceptions, along with the context information.\n",
    "\n",
    "6.Don't ignore exceptions: Ignoring exceptions is a bad practice. It hides the problems, making it difficult to diagnose and fix the root cause.\n",
    "\n",
    "7.Keep exception messages simple and clear: Keep the exception messages simple and clear, so that other developers can quickly understand the problem.\n",
    "\n",
    "8.Raise exceptions when needed: Raise exceptions only when needed. Don't raise exceptions for normal flow control."
   ]
  }
 ],
 "metadata": {
  "kernelspec": {
   "display_name": "Python 3 (ipykernel)",
   "language": "python",
   "name": "python3"
  },
  "language_info": {
   "codemirror_mode": {
    "name": "ipython",
    "version": 3
   },
   "file_extension": ".py",
   "mimetype": "text/x-python",
   "name": "python",
   "nbconvert_exporter": "python",
   "pygments_lexer": "ipython3",
   "version": "3.10.8"
  }
 },
 "nbformat": 4,
 "nbformat_minor": 5
}
