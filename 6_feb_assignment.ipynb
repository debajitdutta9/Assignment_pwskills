{
 "cells": [
  {
   "cell_type": "markdown",
   "id": "ba375b70",
   "metadata": {},
   "source": [
    "Q1. Create a function which will take a list as an argument and return the product of all the numbers after creating a flat list.\n",
    "Use the below-given list as an argument for your function.\n",
    "list1 = [1,2,3,4, [44,55,66, True], False, (34,56,78,89,34), {1,2,3,3,2,1}, {1:34, \"key2\": [55, 67, 78, 89], 4: (45, 22, 61, 34)}, [56, 'data science'], 'Machine Learning']\n",
    "Note: you must extract numeric keys and values of the dictionary also."
   ]
  },
  {
   "cell_type": "code",
   "execution_count": 1,
   "id": "dc633b1f",
   "metadata": {},
   "outputs": [
    {
     "name": "stdout",
     "output_type": "stream",
     "text": [
      "4134711838987085478833841242112000\n"
     ]
    }
   ],
   "source": [
    "# Ans1.\n",
    "\n",
    "from functools import reduce\n",
    "\n",
    "\n",
    "def product(list2):\n",
    "    mul=reduce(lambda x,y:x*y,list2)\n",
    "    print(mul)\n",
    "    \n",
    "    \n",
    "def flat_list(list1):\n",
    "    l=[]\n",
    "    for i in list1:\n",
    "        if type(i) == int :\n",
    "            l.append(i)\n",
    "        elif type(i)==list:\n",
    "            l.extend(flat_list(i))\n",
    "        elif type(i)==tuple:\n",
    "            l.extend(i)\n",
    "        elif type(i)==set:\n",
    "            l.extend(list(i))\n",
    "        elif type(i)==dict:\n",
    "            for k,v in i.items():\n",
    "                if type(k) in [int,float]:\n",
    "                    l.append(k)\n",
    "                if type(v) in [int,float]:\n",
    "                    l.append(v)\n",
    "                if type(v) in [list,tuple,set]:\n",
    "                    l.extend(flat_list(v))               \n",
    "    return l\n",
    "                    \n",
    " \n",
    "    \n",
    "list1 = [1,2,3,4, [44,55,66, True], False, (34,56,78,89,34), {1,2,3,3,2,1}, {1:34, \"key2\": [55, 67, 78, 89], 4: (45,\n",
    "22, 61, 34)}, [56, 'data science'], 'Machine Learning']  \n",
    "    \n",
    "list2=flat_list(list1)\n",
    "product(list2)"
   ]
  },
  {
   "cell_type": "markdown",
   "id": "df7b46a4",
   "metadata": {},
   "source": [
    "Q2. Write a python program for encrypting a message sent to you by your friend. The logic of encryption should be such that, for a the output should be z. For b, the output should be y. For c, the output should be x respectively. Also, the whitespace should be replaced with a dollar sign. Keep the punctuation marks unchanged. Input Sentence: I want to become a Data Scientist. Encrypt the above input sentence using the program you just created."
   ]
  },
  {
   "cell_type": "code",
   "execution_count": 2,
   "id": "2050522a",
   "metadata": {},
   "outputs": [
    {
     "name": "stdout",
     "output_type": "stream",
     "text": [
      "r$dzmg$gl$yvxlnv$z$wzgz$hxrvmgrhg"
     ]
    }
   ],
   "source": [
    "# Ans2.\n",
    "\n",
    "\n",
    "l=\"abcdefghijklmnopqrstuvwxyz\"\n",
    "alpha= list(map(lambda x: x, l))\n",
    "\n",
    "alpha1=alpha[::-1]\n",
    "\n",
    "en={}\n",
    "s,l=0,len(alpha)-1\n",
    "\n",
    "while s<len(alpha):\n",
    "    \n",
    "    en[alpha[s]]=alpha[l]\n",
    "    s+=1\n",
    "    l-=1\n",
    "    \n",
    "en[\" \"]=\"$\"\n",
    "data=\"I want to become a Data Scientist\"\n",
    "data=data.lower()\n",
    "for i in data:\n",
    "    d=en[i]\n",
    "    print(d,end=\"\")"
   ]
  },
  {
   "cell_type": "code",
   "execution_count": null,
   "id": "77a08b6d",
   "metadata": {},
   "outputs": [],
   "source": []
  }
 ],
 "metadata": {
  "kernelspec": {
   "display_name": "Python 3 (ipykernel)",
   "language": "python",
   "name": "python3"
  },
  "language_info": {
   "codemirror_mode": {
    "name": "ipython",
    "version": 3
   },
   "file_extension": ".py",
   "mimetype": "text/x-python",
   "name": "python",
   "nbconvert_exporter": "python",
   "pygments_lexer": "ipython3",
   "version": "3.9.12"
  }
 },
 "nbformat": 4,
 "nbformat_minor": 5
}
