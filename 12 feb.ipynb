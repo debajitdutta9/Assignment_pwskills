{
 "cells": [
  {
   "cell_type": "markdown",
   "id": "d2410f89",
   "metadata": {},
   "source": [
    "Q1. What is an Exception in python? Write the difference between Exceptions and Snytax errors.\n",
    "\n",
    "Ans.\n",
    "\n",
    "An exception in Python is an event that occurs during the execution of a program that disrupts the normal flow of instructions. Exceptions are typically raised when an error occurs, such as division by zero, file not found, or invalid user input.\n",
    "\n",
    "The difference between exceptions and syntax errors is that syntax errors are errors in the syntax of the Python code, such as incorrect indentation, missing parentheses, or incorrect spelling of keywords. Syntax errors are detected by the Python interpreter when the code is first executed and prevent the code from being executed at all.\n",
    "\n",
    "Exceptions, on the other hand, are errors that occur during the execution of the code, and the code can continue to execute even after an exception has been raised. The code can handle the exception using try-except blocks, which allow the code to continue executing even if an exception has been raised. If an exception is not handled, the code will stop executing and the error message associated with the exception will be displayed."
   ]
  },
  {
   "cell_type": "markdown",
   "id": "5fe6b30e",
   "metadata": {},
   "source": [
    "Q2. What happens when an exception is not handled? Explain with an example.\n",
    "\n",
    "Ans.\n",
    "\n",
    "If an exception is not handled, the code will stop executing and Python will raise an unhandled exception error. The error message associated with the exception will be displayed, indicating the type of exception that was raised and the line of code where the exception occurred."
   ]
  },
  {
   "cell_type": "code",
   "execution_count": 10,
   "id": "2c7287e9",
   "metadata": {},
   "outputs": [
    {
     "name": "stdout",
     "output_type": "stream",
     "text": [
      "2.0\n"
     ]
    },
    {
     "ename": "ZeroDivisionError",
     "evalue": "division by zero",
     "output_type": "error",
     "traceback": [
      "\u001b[1;31m---------------------------------------------------------------------------\u001b[0m",
      "\u001b[1;31mZeroDivisionError\u001b[0m                         Traceback (most recent call last)",
      "Input \u001b[1;32mIn [10]\u001b[0m, in \u001b[0;36m<cell line: 5>\u001b[1;34m()\u001b[0m\n\u001b[0;32m      3\u001b[0m     \u001b[38;5;28;01mreturn\u001b[39;00m a\u001b[38;5;241m/\u001b[39mb\n\u001b[0;32m      4\u001b[0m \u001b[38;5;28mprint\u001b[39m(devide(\u001b[38;5;241m4\u001b[39m,\u001b[38;5;241m2\u001b[39m))\n\u001b[1;32m----> 5\u001b[0m \u001b[38;5;28mprint\u001b[39m(\u001b[43mdevide\u001b[49m\u001b[43m(\u001b[49m\u001b[38;5;241;43m2\u001b[39;49m\u001b[43m,\u001b[49m\u001b[38;5;241;43m0\u001b[39;49m\u001b[43m)\u001b[49m)\n",
      "Input \u001b[1;32mIn [10]\u001b[0m, in \u001b[0;36mdevide\u001b[1;34m(a, b)\u001b[0m\n\u001b[0;32m      2\u001b[0m \u001b[38;5;28;01mdef\u001b[39;00m \u001b[38;5;21mdevide\u001b[39m(a,b):\n\u001b[1;32m----> 3\u001b[0m     \u001b[38;5;28;01mreturn\u001b[39;00m \u001b[43ma\u001b[49m\u001b[38;5;241;43m/\u001b[39;49m\u001b[43mb\u001b[49m\n",
      "\u001b[1;31mZeroDivisionError\u001b[0m: division by zero"
     ]
    }
   ],
   "source": [
    "#Example\n",
    "def devide(a,b):\n",
    "    return a/b\n",
    "print(devide(4,2))\n",
    "print(devide(2,0))"
   ]
  },
  {
   "cell_type": "code",
   "execution_count": 9,
   "id": "2cf472e3",
   "metadata": {},
   "outputs": [
    {
     "name": "stdout",
     "output_type": "stream",
     "text": [
      "2.0\n",
      "division by zero\n"
     ]
    }
   ],
   "source": [
    "'''\n",
    "By handling the exception using a try-except block, the code can continue\n",
    "executing even if an exception has been raised\n",
    "'''\n",
    "\n",
    "def devide(a,b):\n",
    "    try:\n",
    "        return a/b\n",
    "    except Exception as e:\n",
    "        return e\n",
    "print(devide(4,2))\n",
    "print(devide(2,0))"
   ]
  },
  {
   "cell_type": "markdown",
   "id": "b56a2bc3",
   "metadata": {},
   "source": [
    "Q3. Which Python statements are used to catch and handle exceptions? Explain with an example.\n",
    "\n",
    "Ans.\n",
    "\n",
    "In Python, exceptions can be caught and handled using the try and except statements. The try statement is used to define a block of code that is executed until an exception is raised. The except statement is used to define a block of code that will be executed if an exception is raised in the try block."
   ]
  },
  {
   "cell_type": "code",
   "execution_count": 12,
   "id": "d9b13f6c",
   "metadata": {},
   "outputs": [
    {
     "name": "stdout",
     "output_type": "stream",
     "text": [
      "enter the number :10\n",
      "enter the number :0\n",
      "Error : division by zero\n"
     ]
    }
   ],
   "source": [
    "try :\n",
    "    a=int(input(\"enter the number :\"))\n",
    "    b=int(input(\"enter the number :\"))\n",
    "    print('dvision of a/b :',(a/b))\n",
    "except Exception as e:\n",
    "    print(\"Error :\",e)"
   ]
  },
  {
   "cell_type": "markdown",
   "id": "ec831c48",
   "metadata": {},
   "source": [
    "Q4. Explain with an example: a. try and else b. finally c. raise\n",
    "\n",
    "Ans.\n",
    "\n",
    "a. try and else:\n",
    "\n",
    "The try and else statement in Python is used to handle exceptions. It is a way to run some code and check for errors in that code, and then to run a different piece of code if an error occurs."
   ]
  },
  {
   "cell_type": "code",
   "execution_count": 17,
   "id": "d80428e5",
   "metadata": {},
   "outputs": [
    {
     "name": "stdout",
     "output_type": "stream",
     "text": [
      "10/5=2.0\n",
      "Try bolck executed\n"
     ]
    }
   ],
   "source": [
    "try:\n",
    "    a=5\n",
    "    b=10\n",
    "    c=b/a\n",
    "    print('{}/{}={}'.format(b,a,c))\n",
    "except Exception as e:\n",
    "    print('error :',e)\n",
    "else:\n",
    "    print('Try bolck executed')"
   ]
  },
  {
   "cell_type": "code",
   "execution_count": 18,
   "id": "c40890db",
   "metadata": {},
   "outputs": [
    {
     "name": "stdout",
     "output_type": "stream",
     "text": [
      "error : division by zero\n"
     ]
    }
   ],
   "source": [
    "try:\n",
    "    a=0\n",
    "    b=10\n",
    "    c=b/a\n",
    "    print('{}/{}={}'.format(b,a,c))\n",
    "except Exception as e:\n",
    "    print('error :',e)\n",
    "else:\n",
    "    print('Try bolck executed')"
   ]
  },
  {
   "cell_type": "markdown",
   "id": "8df6d2de",
   "metadata": {},
   "source": [
    "b. finally:\n",
    "The finally statement in Python is used to ensure that some code is executed regardless of whether an exception was raised or not.\n",
    "It is useful for cleaning up resources or closing files, even if an exception was raised."
   ]
  },
  {
   "cell_type": "code",
   "execution_count": 19,
   "id": "b1b88439",
   "metadata": {},
   "outputs": [
    {
     "name": "stdout",
     "output_type": "stream",
     "text": [
      "10/5=2.0\n",
      "Try bolck executed\n",
      "it is finally block\n"
     ]
    }
   ],
   "source": [
    "try:\n",
    "    a=5\n",
    "    b=10\n",
    "    c=b/a\n",
    "    print('{}/{}={}'.format(b,a,c))\n",
    "except Exception as e:\n",
    "    print('error :',e)\n",
    "else:\n",
    "    print('Try bolck executed')\n",
    "finally:\n",
    "    print('it is finally block')"
   ]
  },
  {
   "cell_type": "code",
   "execution_count": 22,
   "id": "badef069",
   "metadata": {},
   "outputs": [
    {
     "name": "stdout",
     "output_type": "stream",
     "text": [
      "it is finally block\n"
     ]
    },
    {
     "ename": "ZeroDivisionError",
     "evalue": "division by zero",
     "output_type": "error",
     "traceback": [
      "\u001b[1;31m---------------------------------------------------------------------------\u001b[0m",
      "\u001b[1;31mZeroDivisionError\u001b[0m                         Traceback (most recent call last)",
      "Input \u001b[1;32mIn [22]\u001b[0m, in \u001b[0;36m<cell line: 1>\u001b[1;34m()\u001b[0m\n\u001b[0;32m      2\u001b[0m     a\u001b[38;5;241m=\u001b[39m\u001b[38;5;241m0\u001b[39m\n\u001b[0;32m      3\u001b[0m     b\u001b[38;5;241m=\u001b[39m\u001b[38;5;241m10\u001b[39m\n\u001b[1;32m----> 4\u001b[0m     c\u001b[38;5;241m=\u001b[39m\u001b[43mb\u001b[49m\u001b[38;5;241;43m/\u001b[39;49m\u001b[43ma\u001b[49m\n\u001b[0;32m      5\u001b[0m     \u001b[38;5;28mprint\u001b[39m(\u001b[38;5;124m'\u001b[39m\u001b[38;5;132;01m{}\u001b[39;00m\u001b[38;5;124m/\u001b[39m\u001b[38;5;132;01m{}\u001b[39;00m\u001b[38;5;124m=\u001b[39m\u001b[38;5;132;01m{}\u001b[39;00m\u001b[38;5;124m'\u001b[39m\u001b[38;5;241m.\u001b[39mformat(b,a,c))\n\u001b[0;32m      6\u001b[0m \u001b[38;5;28;01mfinally\u001b[39;00m:\n",
      "\u001b[1;31mZeroDivisionError\u001b[0m: division by zero"
     ]
    }
   ],
   "source": [
    "try:\n",
    "    a=0\n",
    "    b=10\n",
    "    c=b/a\n",
    "    print('{}/{}={}'.format(b,a,c))\n",
    "finally:\n",
    "    print('it is finally block')"
   ]
  },
  {
   "cell_type": "code",
   "execution_count": 21,
   "id": "78fe99d9",
   "metadata": {},
   "outputs": [
    {
     "name": "stdout",
     "output_type": "stream",
     "text": [
      "error : division by zero\n",
      "it is finally block\n"
     ]
    }
   ],
   "source": [
    "try:\n",
    "    a=0\n",
    "    b=10\n",
    "    c=b/a\n",
    "    print('{}/{}={}'.format(b,a,c))\n",
    "except Exception as e:\n",
    "    print('error :',e)\n",
    "else:\n",
    "    print('Try bolck executed')\n",
    "finally:\n",
    "    print('it is finally block')"
   ]
  },
  {
   "cell_type": "markdown",
   "id": "3451cf83",
   "metadata": {},
   "source": [
    " c. raise:\n",
    "\n",
    "The raise statement in Python is used to raise an exception. \n",
    "This is useful when you want to stop the execution of the program and signal that an error has occurred.\n"
   ]
  },
  {
   "cell_type": "code",
   "execution_count": 23,
   "id": "35b21760",
   "metadata": {},
   "outputs": [
    {
     "name": "stdout",
     "output_type": "stream",
     "text": [
      "enter your age :-5\n",
      "error : invalid age\n"
     ]
    }
   ],
   "source": [
    "def validate_age(a):\n",
    "    if a<0:\n",
    "        raise Exception('invalid age')\n",
    "    return 'valid age'\n",
    "age=int(input('enter your age :'))\n",
    "try:\n",
    "    validate_age(age)\n",
    "except Exception as e:\n",
    "    print('error :',e)"
   ]
  },
  {
   "cell_type": "markdown",
   "id": "eb0edd98",
   "metadata": {},
   "source": [
    "Q5. What are Custom Exceptions in python? Why do we need Custom Exceptions? Explain with an example.\n",
    "\n",
    "Ans.\n",
    "\n",
    "Custom exceptions in Python are user-defined exceptions. They are used when the built-in exceptions provided by Python are not sufficient to handle specific error conditions in a program. Custom exceptions allow developers to raise exceptions with custom error messages and to catch and handle these exceptions in a more meaningful way.\n",
    "\n",
    "The need for custom exceptions arises when the standard exceptions provided by Python are not specific enough for a particular use case. For example, you may want to raise a specific exception when a user enters an invalid username or password, or when a user tries to access a restricted resource. Custom exceptions can be raised in these situations to provide more meaningful error messages and to handle the errors in a specific way."
   ]
  },
  {
   "cell_type": "code",
   "execution_count": 24,
   "id": "52386a5d",
   "metadata": {},
   "outputs": [
    {
     "name": "stdout",
     "output_type": "stream",
     "text": [
      "enter your username :debajit\n",
      "error : invalid username\n",
      "enter valid user name\n",
      "thank you\n"
     ]
    }
   ],
   "source": [
    "class InvalidUserNameException(Exception):\n",
    "    def __init__(self,msg):\n",
    "        self.msg=msg\n",
    "def validateUserName(x):\n",
    "    if len(x)<8:\n",
    "        raise InvalidUserNameException('invalid username')\n",
    "    return True\n",
    "\n",
    "un=input('enter your username :')\n",
    "try :\n",
    "    validateUserName(un)\n",
    "except Exception as e:\n",
    "    print('error :',e)\n",
    "    print('enter valid user name')\n",
    "else:\n",
    "    print('your user name is valid')\n",
    "finally:\n",
    "    print('thank you')"
   ]
  },
  {
   "cell_type": "markdown",
   "id": "dc08fba3",
   "metadata": {},
   "source": [
    "Q6. Create a custom exception class. Use this class to handle an exception."
   ]
  },
  {
   "cell_type": "code",
   "execution_count": 28,
   "id": "dd55dbe3",
   "metadata": {},
   "outputs": [
    {
     "name": "stdout",
     "output_type": "stream",
     "text": [
      "enter your age :155\n",
      "error : invalid age\n",
      "enter valid age\n",
      "thank you\n"
     ]
    }
   ],
   "source": [
    "class InvalidAge(Exception):\n",
    "    pass\n",
    "def validateage(x):\n",
    "    if (x<0) or (x>105):\n",
    "        raise InvalidAge('invalid age')\n",
    "    return True\n",
    "\n",
    "age=int(input('enter your age :'))\n",
    "try :\n",
    "    validateage(age)\n",
    "except Exception as e:\n",
    "    print('error :',e)\n",
    "    print('enter valid age')\n",
    "else:\n",
    "    print('thanks for entering age')\n",
    "finally:\n",
    "    print('thank you')"
   ]
  },
  {
   "cell_type": "code",
   "execution_count": null,
   "id": "ed9d055e",
   "metadata": {},
   "outputs": [],
   "source": []
  }
 ],
 "metadata": {
  "kernelspec": {
   "display_name": "Python 3 (ipykernel)",
   "language": "python",
   "name": "python3"
  },
  "language_info": {
   "codemirror_mode": {
    "name": "ipython",
    "version": 3
   },
   "file_extension": ".py",
   "mimetype": "text/x-python",
   "name": "python",
   "nbconvert_exporter": "python",
   "pygments_lexer": "ipython3",
   "version": "3.9.12"
  }
 },
 "nbformat": 4,
 "nbformat_minor": 5
}
