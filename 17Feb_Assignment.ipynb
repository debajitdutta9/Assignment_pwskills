{
 "cells": [
  {
   "cell_type": "markdown",
   "id": "077a0bdf-2ce2-4b53-8671-ffea87886399",
   "metadata": {},
   "source": [
    "Q1. What is MongoDB? Explain non-relational databases in short. In which scenarios it is preferred to use\n",
    "MongoDB over SQL databases?\n",
    "\n",
    "Ans.\n",
    "\n",
    "MongoDB is a popular NoSQL (non-relational) database management system that stores data in the form of documents, which are JSON-like data structures. Unlike SQL databases, MongoDB is not based on tables with fixed columns and rows, but on collections of documents that can have varying fields and sizes.\n",
    "\n",
    "Non-relational databases are designed to handle large and unstructured data sets that don't fit well into the rigid structure of relational databases. They are more flexible and scalable, and can handle semi-structured and even completely unstructured data such as text, images, videos, and social media feeds.\n",
    "\n",
    "MongoDB is preferred over SQL databases in scenarios where there is a need for a flexible and scalable database that can handle a variety of data types, such as in web and mobile applications that require fast and easy data access and modification. It is also useful for real-time analytics, social media, and IoT applications that require fast data ingestion and retrieval, and where there is a need for data replication and sharding for high availability and performance."
   ]
  },
  {
   "cell_type": "markdown",
   "id": "6e50cc63-8370-4be5-be87-a07c42ab2188",
   "metadata": {},
   "source": [
    "Q2. State and Explain the features of MongoDB.\n",
    "\n",
    "Ans.\n",
    "\n",
    "MongoDB is a popular NoSQL database that offers a number of features that are not available in traditional SQL databases. Some of the key features of MongoDB are:\n",
    "\n",
    "1.Schemaless: Unlike SQL databases, MongoDB is schemaless, meaning that the database does not enforce a specific data structure. This allows for greater flexibility in storing data and enables rapid development.\n",
    "\n",
    "2.Document-Oriented: MongoDB stores data in documents, which are similar to JSON objects. This makes it easy to work with data in applications and simplifies data modeling.\n",
    "\n",
    "3.High Performance: MongoDB is designed for high performance and can handle a large number of reads and writes. It uses a memory-mapped file system that allows for faster access to data.\n",
    "\n",
    "4.Scalable: MongoDB is highly scalable and can be used for both small and large-scale applications. It allows for the addition of more servers to a cluster to handle increased traffic.\n",
    "\n",
    "5.Flexible Data Model: MongoDB's flexible data model allows for the storage of different data types in the same collection. This enables developers to store data in a way that makes the most sense for their application.\n",
    "\n",
    "6.Indexing: MongoDB supports indexing, which allows for faster queries and data retrieval.\n",
    "\n",
    "7.Aggregation Framework: MongoDB has a powerful aggregation framework that allows for complex data analysis and manipulation."
   ]
  },
  {
   "cell_type": "raw",
   "id": "e9150955-092e-4e4a-858c-f9a9f8e8ff90",
   "metadata": {},
   "source": [
    "Q3. Write a code to connect MongoDB to Python. Also, create a database and a collection in MongoDB.\n",
    "\n",
    "\n",
    "Ans.\n",
    "\n",
    "To connect MongoDB to Python, we need to install the PyMongo library. We can use the pymongo module to connect to MongoDB and perform database operations. Here is an example code to connect MongoDB to Python and create a database and a collection.\n",
    "\n",
    "\n",
    "# Import pymongo module\n",
    "import pymongo\n",
    "\n",
    "# Create a MongoClient object\n",
    "client = pymongo.MongoClient(\"mongodb://localhost:27017/\")\n",
    "\n",
    "# Create a database\n",
    "mydb = client[\"mydatabase\"]\n",
    "\n",
    "# Create a collection\n",
    "mycol = mydb.create_collection(\"customers\")\n"
   ]
  },
  {
   "cell_type": "markdown",
   "id": "26a55835-7c63-426e-8dd3-6455b74b95f6",
   "metadata": {},
   "source": [
    "Q4. Using the database and the collection created in question number 3, write a code to insert one record,\n",
    "and insert many records. Use the find() and find_one() methods to print the inserted record."
   ]
  },
  {
   "cell_type": "code",
   "execution_count": 2,
   "id": "830d6f02-553d-491c-8285-8e6f179bbdee",
   "metadata": {},
   "outputs": [
    {
     "ename": "ModuleNotFoundError",
     "evalue": "No module named 'pymongo'",
     "output_type": "error",
     "traceback": [
      "\u001b[0;31m---------------------------------------------------------------------------\u001b[0m",
      "\u001b[0;31mModuleNotFoundError\u001b[0m                       Traceback (most recent call last)",
      "Cell \u001b[0;32mIn[2], line 4\u001b[0m\n\u001b[1;32m      1\u001b[0m \u001b[38;5;66;03m# Ans 4.\u001b[39;00m\n\u001b[1;32m      2\u001b[0m \n\u001b[1;32m      3\u001b[0m \u001b[38;5;66;03m# Importing required libraries\u001b[39;00m\n\u001b[0;32m----> 4\u001b[0m \u001b[38;5;28;01mfrom\u001b[39;00m \u001b[38;5;21;01mpymongo\u001b[39;00m \u001b[38;5;28;01mimport\u001b[39;00m MongoClient\n\u001b[1;32m      6\u001b[0m \u001b[38;5;66;03m# Creating a MongoClient and connecting to the MongoDB instance\u001b[39;00m\n\u001b[1;32m      7\u001b[0m client \u001b[38;5;241m=\u001b[39m MongoClient()\n",
      "\u001b[0;31mModuleNotFoundError\u001b[0m: No module named 'pymongo'"
     ]
    }
   ],
   "source": [
    "# Ans 4.\n",
    "\n",
    "# Importing required libraries\n",
    "from pymongo import MongoClient\n",
    "\n",
    "# Creating a MongoClient and connecting to the MongoDB instance\n",
    "client = MongoClient()\n",
    "db = client.mydatabase  # Creating a new database 'mydatabase'\n",
    "collection = db.mycollection  # Creating a new collection 'mycollection'\n",
    "\n",
    "# Inserting a single record\n",
    "record = {\"name\": \"John Doe\", \"age\": 30, \"city\": \"New York\"}\n",
    "collection.insert_one(record)\n",
    "print(\"Single record inserted successfully.\")\n",
    "\n",
    "# Inserting multiple records\n",
    "records = [\n",
    "    {\"name\": \"Jane Doe\", \"age\": 25, \"city\": \"Chicago\"},\n",
    "    {\"name\": \"Bob Smith\", \"age\": 40, \"city\": \"San Francisco\"},\n",
    "    {\"name\": \"Alice Johnson\", \"age\": 35, \"city\": \"Boston\"}\n",
    "]\n",
    "collection.insert_many(records)\n",
    "print(\"Multiple records inserted successfully.\")\n",
    "\n",
    "# Retrieving a single record\n",
    "record = collection.find_one({\"name\": \"John Doe\"})\n",
    "print(\"Single record retrieved:\")\n",
    "print(record)\n",
    "\n",
    "# Retrieving multiple records\n",
    "records = collection.find({\"city\": \"Boston\"})\n",
    "print(\"Multiple records retrieved:\")\n",
    "for record in records:\n",
    "    print(record)\n"
   ]
  },
  {
   "cell_type": "markdown",
   "id": "161ca233-645e-4c7a-a549-fc02498d8e9e",
   "metadata": {},
   "source": [
    "Q5. Explain how you can use the find() method to query the MongoDB database. Write a simple code to\n",
    "demonstrate this.\n",
    "\n",
    "Ans.\n",
    "\n",
    "\n",
    "The find() method in MongoDB is used to query the database and retrieve documents that match certain criteria. It takes a dictionary object as a parameter, with key-value pairs that specify the criteria to search for. The find() method returns a cursor object, which can be iterated over to access the matching documents."
   ]
  },
  {
   "cell_type": "code",
   "execution_count": 3,
   "id": "f7875929-53e1-4a3a-9deb-2eb1c644979c",
   "metadata": {},
   "outputs": [
    {
     "ename": "ModuleNotFoundError",
     "evalue": "No module named 'pymongo'",
     "output_type": "error",
     "traceback": [
      "\u001b[0;31m---------------------------------------------------------------------------\u001b[0m",
      "\u001b[0;31mModuleNotFoundError\u001b[0m                       Traceback (most recent call last)",
      "Cell \u001b[0;32mIn[3], line 1\u001b[0m\n\u001b[0;32m----> 1\u001b[0m \u001b[38;5;28;01mimport\u001b[39;00m \u001b[38;5;21;01mpymongo\u001b[39;00m\n\u001b[1;32m      3\u001b[0m \u001b[38;5;66;03m# establish a connection to MongoDB\u001b[39;00m\n\u001b[1;32m      4\u001b[0m client \u001b[38;5;241m=\u001b[39m pymongo\u001b[38;5;241m.\u001b[39mMongoClient(\u001b[38;5;124m\"\u001b[39m\u001b[38;5;124mmongodb://localhost:27017/\u001b[39m\u001b[38;5;124m\"\u001b[39m)\n",
      "\u001b[0;31mModuleNotFoundError\u001b[0m: No module named 'pymongo'"
     ]
    }
   ],
   "source": [
    "import pymongo\n",
    "\n",
    "# establish a connection to MongoDB\n",
    "client = pymongo.MongoClient(\"mongodb://localhost:27017/\")\n",
    "\n",
    "# select a database and collection\n",
    "db = client[\"mydatabase\"]\n",
    "collection = db[\"customers\"]\n",
    "\n",
    "# query for all documents in the collection\n",
    "results = collection.find()\n",
    "\n",
    "# iterate over the cursor object and print the documents\n",
    "for document in results:\n",
    "    print(document)\n"
   ]
  },
  {
   "cell_type": "markdown",
   "id": "cf9a80fe-ee71-4d0c-9712-92beb113f141",
   "metadata": {},
   "source": [
    "Q6. Explain the sort() method. Give an example to demonstrate sorting in MongoDB.\n",
    "\n",
    "Ans.\n",
    "\n",
    "The sort() method in MongoDB is used to sort the results of a query in either ascending or descending order based on one or more fields. The sort() method takes one parameter, which is a dictionary containing the fields and sort order."
   ]
  },
  {
   "cell_type": "code",
   "execution_count": null,
   "id": "a40798a1-0c32-424f-ac37-08710835fcc3",
   "metadata": {},
   "outputs": [],
   "source": [
    "# Import the MongoClient class from the pymongo module\n",
    "from pymongo import MongoClient\n",
    "\n",
    "# Create a MongoClient object and connect to the database\n",
    "client = MongoClient()\n",
    "db = client['mydb']\n",
    "\n",
    "# Get the \"users\" collection\n",
    "users = db['users']\n",
    "\n",
    "# Sort the documents based on the \"age\" field in descending order\n",
    "sorted_users = users.find().sort(\"age\", -1)\n",
    "\n",
    "# Print the sorted documents\n",
    "for user in sorted_users:\n",
    "    print(user)\n"
   ]
  },
  {
   "cell_type": "markdown",
   "id": "6496aa6d-f149-491e-a8e9-e0d01dc080f9",
   "metadata": {},
   "source": [
    "Q7. Explain why delete_one(), delete_many(), and drop() is used.\n",
    "\n",
    "Ans.\n",
    "\n",
    "In MongoDB, delete_one() method is used to delete a single document that matches a specified filter criteria. It will delete the first document that matches the filter criteria.\n",
    "\n",
    "delete_many() method is used to delete all the documents that match a specified filter criteria.\n",
    "\n",
    "drop() method is used to drop an entire collection from a database. This method removes all the documents from a collection as well as the collection itself.\n",
    "\n",
    "These methods are used to delete or drop data from MongoDB collections when it is no longer needed or is invalid. For example, if a user wants to remove all the documents that have a particular value in a field, the delete_many() method can be used. If the user wants to remove the entire collection, the drop() method can be used.S"
   ]
  },
  {
   "cell_type": "code",
   "execution_count": null,
   "id": "479c89d1-9d50-478a-99de-9945a9a246f5",
   "metadata": {},
   "outputs": [],
   "source": []
  }
 ],
 "metadata": {
  "kernelspec": {
   "display_name": "Python 3 (ipykernel)",
   "language": "python",
   "name": "python3"
  },
  "language_info": {
   "codemirror_mode": {
    "name": "ipython",
    "version": 3
   },
   "file_extension": ".py",
   "mimetype": "text/x-python",
   "name": "python",
   "nbconvert_exporter": "python",
   "pygments_lexer": "ipython3",
   "version": "3.10.8"
  }
 },
 "nbformat": 4,
 "nbformat_minor": 5
}
